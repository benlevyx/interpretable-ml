{
 "cells": [
  {
   "cell_type": "code",
   "execution_count": 1,
   "metadata": {
    "ExecuteTime": {
     "end_time": "2020-03-11T14:41:55.792445Z",
     "start_time": "2020-03-11T14:41:55.439563Z"
    }
   },
   "outputs": [],
   "source": [
    "import numpy as np\n",
    "import matplotlib.pyplot as plt\n",
    "%matplotlib inline"
   ]
  },
  {
   "cell_type": "code",
   "execution_count": 2,
   "metadata": {
    "ExecuteTime": {
     "end_time": "2020-03-11T14:41:58.775864Z",
     "start_time": "2020-03-11T14:41:58.745921Z"
    }
   },
   "outputs": [],
   "source": [
    "class InfoArch:\n",
    "    def __init__(self, root):\n",
    "        self.root = root\n",
    "    \n",
    "    def treemap_plot(self, labels=None):\n",
    "        arr = self.root.to_array()\n",
    "        plt.imshow(arr, cmap='Paired', vmax=12)\n",
    "#         plt.colorbar()\n",
    "        if labels is not None:\n",
    "            for i, lab in enumerate(labels):\n",
    "                print(i, lab)\n",
    "                indices = np.vstack(np.argwhere(arr == i))\n",
    "                top_left = indices.argmin(axis=0)\n",
    "                bottom_right = indices.argmax(axis=0)\n",
    "                avg = (top_left + bottom_right) / 2\n",
    "                plt.text(avg[0], avg[1], lab, ha='center')\n",
    "    \n",
    "        \n",
    "class Node:\n",
    "    def __init__(self, parent, components, height, width, priority):\n",
    "        self.parent = parent\n",
    "        self.components = components\n",
    "        self.children = []\n",
    "        self.height = height\n",
    "        self.width = width\n",
    "        self.priority = priority\n",
    "    \n",
    "    def add_child(self, node, idx):\n",
    "        self.children.insert(idx, node)\n",
    "    \n",
    "    def split_node(self, max_splits=2, min_length=2):\n",
    "        if len(self.components) > 1:\n",
    "            print(f\"Splitting components {self.components}\")\n",
    "            denom = np.sum([1 / (i + 1) for i in range(max_splits)])\n",
    "            probs = np.array([(1 / (i + 1)) / denom for i in range(max_splits)])\n",
    "            n_splits = max(np.random.choice(min(len(components), max_splits), size=1, p=probs), 1)\n",
    "            if type(n_splits) != int:\n",
    "                n_splits = n_splits[0]\n",
    "            \n",
    "            n_children = n_splits + 1\n",
    "            new_children = np.arange(n_children)\n",
    "            ids = np.random.permutation(new_children)\n",
    "            n_to_draw = len(self.components) - n_children\n",
    "            extra_ids = np.random.choice(new_children, n_to_draw)\n",
    "            ids = np.append(ids, extra_ids)\n",
    "            print(ids)\n",
    "            \n",
    "            if self.height > self.width:\n",
    "                # split vertically\n",
    "                heights, priorities = _divide1d(self.height, n_splits, min_length=min_length)\n",
    "                dims = [(h, self.width, p) for h, p in zip(heights, priorities)]\n",
    "            else:\n",
    "                widths, priorities = _divide1d(self.width, n_splits, min_length=min_length)\n",
    "                dims = [(self.height, w, p) for w, p in zip(widths, priorities)]\n",
    "\n",
    "            for i in range(n_splits + 1):\n",
    "                node = Node(self, self.components[ids == i], *dims[i])\n",
    "                node.split_node()\n",
    "                self.add_child(node, priorities[i])\n",
    "    \n",
    "    def __str__(self):\n",
    "        if len(self.children) == 0:\n",
    "            return f'{self.components}, {self.height, self.width}, {self.priority}'\n",
    "        else:\n",
    "            lines = [f'[]{self.height, self.width}, {self.priority}']\n",
    "            for child in self.children:\n",
    "                childstr = str(child)\n",
    "                for i, line in enumerate(childstr.split('\\n')):\n",
    "                    if i == 0:\n",
    "                        lines.append(f'|----{line}')\n",
    "                    else:\n",
    "                        lines.append(f'|    {line}')\n",
    "                        \n",
    "            return '\\n'.join(lines)\n",
    "\n",
    "    def to_array(self):\n",
    "        if len(self.children) == 0:\n",
    "            return np.full((self.height, self.width), self.components[0])\n",
    "        else:\n",
    "            arrs = [c.to_array() for c in self.children]\n",
    "            heights = [a.shape[0] for a in arrs]\n",
    "            if all([h == heights[0] for h in heights]):\n",
    "                res = np.hstack(arrs)\n",
    "            else:\n",
    "                res = np.vstack(arrs)\n",
    "            return res.reshape(self.height, self.width)\n",
    "    \n",
    "    def get_priorities(self):\n",
    "        if len(self.children) == 0:\n",
    "            return np.array([self.components[0], self.priority])\n",
    "        else:\n",
    "            res = []\n",
    "            for child in self.children:\n",
    "                res.append(child.get_priorities())\n",
    "            res = np.vstack(res)\n",
    "            res = res[np.argsort(res[:, 0])]\n",
    "            res[:, 1] += self.priority\n",
    "            return res\n",
    "\n",
    "\n",
    "def _divide1d(length, n_splits, min_length=1):\n",
    "    splits = np.random.choice(np.arange(1, length), size=n_splits)\n",
    "    res = np.concatenate(([0], sorted(splits), [length]))\n",
    "    cell_sizes = np.diff(res)\n",
    "    # Compute priorities\n",
    "    priorities = np.argsort(cell_sizes)\n",
    "    return cell_sizes, priorities"
   ]
  },
  {
   "cell_type": "code",
   "execution_count": 3,
   "metadata": {
    "ExecuteTime": {
     "end_time": "2020-03-11T14:42:00.346707Z",
     "start_time": "2020-03-11T14:42:00.342083Z"
    }
   },
   "outputs": [],
   "source": [
    "components = np.array([1, 2, 3, 4, 5, 6, 7, 8])\n",
    "height = 16\n",
    "width = 20\n",
    "root = Node(None, components, height, width, 0)"
   ]
  },
  {
   "cell_type": "code",
   "execution_count": 4,
   "metadata": {
    "ExecuteTime": {
     "end_time": "2020-03-11T14:42:00.810586Z",
     "start_time": "2020-03-11T14:42:00.791746Z"
    }
   },
   "outputs": [
    {
     "name": "stdout",
     "output_type": "stream",
     "text": [
      "Splitting components [1 2 3 4 5 6 7 8]\n",
      "[1 0 0 1 0 1 1 0]\n",
      "Splitting components [2 3 5 8]\n",
      "[1 0 0 1]\n",
      "Splitting components [3 5]\n",
      "[1 0]\n",
      "Splitting components [2 8]\n",
      "[0 1]\n",
      "Splitting components [1 4 6 7]\n",
      "[1 0 1 0]\n",
      "Splitting components [4 7]\n",
      "[1 0]\n",
      "Splitting components [1 6]\n",
      "[0 1]\n"
     ]
    }
   ],
   "source": [
    "root.split_node(min_length=5)"
   ]
  },
  {
   "cell_type": "code",
   "execution_count": 5,
   "metadata": {
    "ExecuteTime": {
     "end_time": "2020-03-11T14:42:01.695389Z",
     "start_time": "2020-03-11T14:42:01.690061Z"
    }
   },
   "outputs": [
    {
     "name": "stdout",
     "output_type": "stream",
     "text": [
      "[](16, 20), 0\n",
      "|----[](16, 5), 0\n",
      "|    |----[](1, 5), 0\n",
      "|    |    |----[4], (1, 1), 0\n",
      "|    |    |----[7], (1, 4), 1\n",
      "|    |----[](15, 5), 1\n",
      "|    |    |----[1], (3, 5), 0\n",
      "|    |    |----[6], (12, 5), 1\n",
      "|----[](16, 15), 1\n",
      "|    |----[](3, 15), 0\n",
      "|    |    |----[3], (3, 5), 0\n",
      "|    |    |----[5], (3, 10), 1\n",
      "|    |----[](13, 15), 1\n",
      "|    |    |----[8], (13, 5), 0\n",
      "|    |    |----[2], (13, 10), 1\n"
     ]
    }
   ],
   "source": [
    "print(root)"
   ]
  },
  {
   "cell_type": "code",
   "execution_count": 6,
   "metadata": {
    "ExecuteTime": {
     "end_time": "2020-03-11T14:42:02.949216Z",
     "start_time": "2020-03-11T14:42:02.706395Z"
    }
   },
   "outputs": [
    {
     "data": {
      "text/plain": [
       "<matplotlib.image.AxesImage at 0x7fdec8029e80>"
      ]
     },
     "execution_count": 6,
     "metadata": {},
     "output_type": "execute_result"
    },
    {
     "data": {
      "image/png": "[encoded data removed]",
      "text/plain": [
       "<Figure size 432x288 with 1 Axes>"
      ]
     },
     "metadata": {
      "needs_background": "light"
     },
     "output_type": "display_data"
    }
   ],
   "source": [
    "plt.imshow(root.to_array())"
   ]
  },
  {
   "cell_type": "markdown",
   "metadata": {},
   "source": [
    "Now working on a class that allows you to pre-specify each component's position and size"
   ]
  },
  {
   "cell_type": "code",
   "execution_count": 7,
   "metadata": {
    "ExecuteTime": {
     "end_time": "2020-03-11T14:42:04.396176Z",
     "start_time": "2020-03-11T14:42:04.391272Z"
    }
   },
   "outputs": [],
   "source": [
    "# 12x12 grid\n",
    "spec = [\n",
    "    [[\n",
    "        ([0], 6, 4),\n",
    "        ([1], 4, 4)\n",
    "    ],\n",
    "    [\n",
    "        ([2], 2, 8),\n",
    "        [\n",
    "            [\n",
    "                ([4], 6, 4),\n",
    "                ([5], 6, 4)\n",
    "            ],\n",
    "            ([3], 2, 8)\n",
    "        ]\n",
    "    ]],\n",
    "    ([6], 2, 12)\n",
    "]"
   ]
  },
  {
   "cell_type": "code",
   "execution_count": 8,
   "metadata": {
    "ExecuteTime": {
     "end_time": "2020-03-11T14:42:05.236615Z",
     "start_time": "2020-03-11T14:42:05.223675Z"
    }
   },
   "outputs": [],
   "source": [
    "def convert_to_tree(spec):\n",
    "    if type(spec) == tuple:\n",
    "        return Node(None, *spec, 0)\n",
    "    else:\n",
    "        nodes = [convert_to_tree(elem) for elem in spec]\n",
    "        heights = np.array([n.height for n in nodes])\n",
    "        widths = np.array([n.width for n in nodes])\n",
    "        if all([h == heights[0] for h in heights]):\n",
    "            # Split by width\n",
    "            height = heights[0]\n",
    "            width = widths.sum()\n",
    "        else:\n",
    "            # Split by height\n",
    "            width = widths[0]\n",
    "            height = heights.sum()\n",
    "        \n",
    "        sizes = [(s, idx) for idx, s in enumerate(heights + widths)]\n",
    "        sizes = sorted(sizes, key=lambda x: (x[0], -x[1]))\n",
    "        priorities = [(idx, p) for p, (_, idx) in enumerate(sizes)]\n",
    "        priorities = sorted(priorities, key=lambda x: x[0])\n",
    "        priorities = [p for idx, p in priorities]\n",
    "\n",
    "        components = []\n",
    "        new_node = Node(None, None, height, width, 0)\n",
    "        for i, (n, p) in enumerate(zip(nodes, priorities)):\n",
    "            n.priority = p\n",
    "            new_node.add_child(n, i)\n",
    "            components.extend(n.components)\n",
    "        new_node.components = components\n",
    "        return new_node"
   ]
  },
  {
   "cell_type": "code",
   "execution_count": 9,
   "metadata": {
    "ExecuteTime": {
     "end_time": "2020-03-11T14:42:07.523261Z",
     "start_time": "2020-03-11T14:42:07.518727Z"
    }
   },
   "outputs": [],
   "source": [
    "root = convert_to_tree(spec)\n",
    "ia = InfoArch(root)"
   ]
  },
  {
   "cell_type": "code",
   "execution_count": 10,
   "metadata": {
    "ExecuteTime": {
     "end_time": "2020-03-11T14:42:08.480721Z",
     "start_time": "2020-03-11T14:42:08.280824Z"
    }
   },
   "outputs": [
    {
     "data": {
      "image/png": "[encoded data removed]",
      "text/plain": [
       "<Figure size 432x288 with 1 Axes>"
      ]
     },
     "metadata": {
      "needs_background": "light"
     },
     "output_type": "display_data"
    }
   ],
   "source": [
    "ia.treemap_plot()"
   ]
  },
  {
   "cell_type": "code",
   "execution_count": 11,
   "metadata": {
    "ExecuteTime": {
     "end_time": "2020-03-11T14:42:15.037531Z",
     "start_time": "2020-03-11T14:42:15.031641Z"
    }
   },
   "outputs": [
    {
     "data": {
      "text/plain": [
       "[0, 1, 2, 4, 5, 3, 6]"
      ]
     },
     "execution_count": 11,
     "metadata": {},
     "output_type": "execute_result"
    }
   ],
   "source": [
    "root.components"
   ]
  },
  {
   "cell_type": "markdown",
   "metadata": {},
   "source": [
    "Next steps:\n",
    "\n",
    "1. Generate a bunch of reasonable trees\n",
    "2. Compute a similarity function\n",
    "3. Display them in a cluster to see which are the most similar as a sanity check"
   ]
  },
  {
   "cell_type": "code",
   "execution_count": 24,
   "metadata": {
    "ExecuteTime": {
     "end_time": "2020-03-11T14:42:43.165108Z",
     "start_time": "2020-03-11T14:42:43.158211Z"
    }
   },
   "outputs": [],
   "source": [
    "# 12x12 grid\n",
    "spec1 = [\n",
    "    [[\n",
    "        ([0], 6, 4),\n",
    "        ([1], 4, 4)\n",
    "    ],\n",
    "    [\n",
    "        ([2], 2, 8),\n",
    "        [\n",
    "            [\n",
    "                ([4], 6, 4),\n",
    "                ([5], 6, 4)\n",
    "            ],\n",
    "            ([3], 2, 8)\n",
    "        ]\n",
    "    ]],\n",
    "    ([6], 2, 12)\n",
    "]\n",
    "# 12x12 grid\n",
    "spec2 = [\n",
    "    [[\n",
    "        ([0], 6, 4),\n",
    "        ([1], 4, 4)\n",
    "    ],\n",
    "    [\n",
    "        ([2], 2, 8),\n",
    "        [\n",
    "            [\n",
    "                ([4], 6, 8),\n",
    "            ],\n",
    "            ([3], 2, 8)\n",
    "        ]\n",
    "    ]],\n",
    "    ([5], 2, 12)\n",
    "]"
   ]
  },
  {
   "cell_type": "code",
   "execution_count": 25,
   "metadata": {
    "ExecuteTime": {
     "end_time": "2020-03-11T14:42:43.952125Z",
     "start_time": "2020-03-11T14:42:43.947430Z"
    }
   },
   "outputs": [],
   "source": [
    "root1 = convert_to_tree(spec1)\n",
    "root2 = convert_to_tree(spec2)"
   ]
  },
  {
   "cell_type": "code",
   "execution_count": 26,
   "metadata": {
    "ExecuteTime": {
     "end_time": "2020-03-11T14:42:44.489367Z",
     "start_time": "2020-03-11T14:42:44.483892Z"
    }
   },
   "outputs": [
    {
     "name": "stdout",
     "output_type": "stream",
     "text": [
      "[](12, 12), 0\n",
      "|----[](10, 12), 1\n",
      "|    |----[](10, 4), 0\n",
      "|    |    |----[0], (6, 4), 1\n",
      "|    |    |----[1], (4, 4), 0\n",
      "|    |----[](10, 8), 1\n",
      "|    |    |----[2], (2, 8), 0\n",
      "|    |    |----[](8, 8), 1\n",
      "|    |    |    |----[](6, 8), 1\n",
      "|    |    |    |    |----[4], (6, 8), 0\n",
      "|    |    |    |----[3], (2, 8), 0\n",
      "|----[5], (2, 12), 0\n"
     ]
    }
   ],
   "source": [
    "print(root2)"
   ]
  },
  {
   "cell_type": "code",
   "execution_count": 27,
   "metadata": {
    "ExecuteTime": {
     "end_time": "2020-03-11T14:42:49.985002Z",
     "start_time": "2020-03-11T14:42:49.795714Z"
    }
   },
   "outputs": [
    {
     "data": {
      "image/png": "[encoded data removed]",
      "text/plain": [
       "<Figure size 432x288 with 1 Axes>"
      ]
     },
     "metadata": {
      "needs_background": "light"
     },
     "output_type": "display_data"
    }
   ],
   "source": [
    "ia2 = InfoArch(root1)\n",
    "ia2.treemap_plot()"
   ]
  },
  {
   "cell_type": "code",
   "execution_count": 16,
   "metadata": {
    "ExecuteTime": {
     "end_time": "2020-03-11T14:42:54.638572Z",
     "start_time": "2020-03-11T14:42:54.631942Z"
    }
   },
   "outputs": [
    {
     "data": {
      "text/plain": [
       "array([[0, 2],\n",
       "       [1, 1],\n",
       "       [2, 2],\n",
       "       [3, 3],\n",
       "       [4, 5],\n",
       "       [5, 4],\n",
       "       [6, 0]])"
      ]
     },
     "execution_count": 16,
     "metadata": {},
     "output_type": "execute_result"
    }
   ],
   "source": [
    "root1.get_priorities()"
   ]
  },
  {
   "cell_type": "code",
   "execution_count": 17,
   "metadata": {
    "ExecuteTime": {
     "end_time": "2020-03-11T14:42:55.201882Z",
     "start_time": "2020-03-11T14:42:55.195484Z"
    }
   },
   "outputs": [
    {
     "data": {
      "text/plain": [
       "array([[0, 2],\n",
       "       [1, 1],\n",
       "       [2, 2],\n",
       "       [3, 3],\n",
       "       [4, 4],\n",
       "       [5, 0]])"
      ]
     },
     "execution_count": 17,
     "metadata": {},
     "output_type": "execute_result"
    }
   ],
   "source": [
    "root2.get_priorities()"
   ]
  },
  {
   "cell_type": "code",
   "execution_count": null,
   "metadata": {},
   "outputs": [],
   "source": []
  }
 ],
 "metadata": {
  "kernelspec": {
   "display_name": "Python 3",
   "language": "python",
   "name": "python3"
  },
  "language_info": {
   "codemirror_mode": {
    "name": "ipython",
    "version": 3
   },
   "file_extension": ".py",
   "mimetype": "text/x-python",
   "name": "python",
   "nbconvert_exporter": "python",
   "pygments_lexer": "ipython3",
   "version": "3.7.3"
  },
  "varInspector": {
   "cols": {
    "lenName": 16,
    "lenType": 16,
    "lenVar": 40
   },
   "kernels_config": {
    "python": {
     "delete_cmd_postfix": "",
     "delete_cmd_prefix": "del ",
     "library": "var_list.py",
     "varRefreshCmd": "print(var_dic_list())"
    },
    "r": {
     "delete_cmd_postfix": ") ",
     "delete_cmd_prefix": "rm(",
     "library": "var_list.r",
     "varRefreshCmd": "cat(var_dic_list()) "
    }
   },
   "types_to_exclude": [
    "module",
    "function",
    "builtin_function_or_method",
    "instance",
    "_Feature"
   ],
   "window_display": false
  }
 },
 "nbformat": 4,
 "nbformat_minor": 2
}
