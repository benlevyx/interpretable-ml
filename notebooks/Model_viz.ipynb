{
 "cells": [
  {
   "cell_type": "code",
   "execution_count": 1,
   "metadata": {
    "ExecuteTime": {
     "end_time": "2020-04-22T15:47:00.985358Z",
     "start_time": "2020-04-22T15:46:57.528965Z"
    },
    "colab": {},
    "colab_type": "code",
    "id": "gnDZgn15p6hm"
   },
   "outputs": [],
   "source": [
    "import numpy as np\n",
    "import scipy as sp\n",
    "import pandas as pd\n",
    "import sklearn as sk\n",
    "from sklearn.ensemble import RandomForestClassifier\n",
    "from sklearn.preprocessing import LabelEncoder\n",
    "from sklearn.model_selection import train_test_split\n",
    "from sklearn.metrics import confusion_matrix\n",
    "import matplotlib.pyplot as plt\n",
    "import matplotlib.patches as mpatches\n",
    "import scipy\n",
    "from scipy import stats as spstats\n",
    "from scipy.stats import norm\n",
    "\n",
    "from interpml import config\n",
    "\n",
    "%matplotlib inline"
   ]
  },
  {
   "cell_type": "markdown",
   "metadata": {
    "colab_type": "text",
    "id": "zLxBhH0-rRSx"
   },
   "source": [
    "# Import Data from UCI"
   ]
  },
  {
   "cell_type": "markdown",
   "metadata": {
    "colab_type": "text",
    "id": "JBNTLd6vr6FK"
   },
   "source": [
    "### Load Data"
   ]
  },
  {
   "cell_type": "code",
   "execution_count": 2,
   "metadata": {
    "ExecuteTime": {
     "end_time": "2020-04-22T15:47:01.759446Z",
     "start_time": "2020-04-22T15:47:01.099704Z"
    },
    "colab": {},
    "colab_type": "code",
    "id": "iRfvmWKwrxyu"
   },
   "outputs": [],
   "source": [
    "# Loads the car dataset\n",
    "df = pd.read_csv('http://archive.ics.uci.edu/ml/machine-learning-databases/car/car.data', header=None)"
   ]
  },
  {
   "cell_type": "code",
   "execution_count": 3,
   "metadata": {
    "ExecuteTime": {
     "end_time": "2020-04-22T15:47:01.897687Z",
     "start_time": "2020-04-22T15:47:01.848669Z"
    },
    "colab": {
     "base_uri": "https://localhost:8080/",
     "height": 204
    },
    "colab_type": "code",
    "id": "nKuUn5eHsxNt",
    "outputId": "d5f0ea4f-5d8d-4571-8136-17b2ff697924"
   },
   "outputs": [
    {
     "data": {
      "text/html": [
       "<div>\n",
       "<style scoped>\n",
       "    .dataframe tbody tr th:only-of-type {\n",
       "        vertical-align: middle;\n",
       "    }\n",
       "\n",
       "    .dataframe tbody tr th {\n",
       "        vertical-align: top;\n",
       "    }\n",
       "\n",
       "    .dataframe thead th {\n",
       "        text-align: right;\n",
       "    }\n",
       "</style>\n",
       "<table border=\"1\" class=\"dataframe\">\n",
       "  <thead>\n",
       "    <tr style=\"text-align: right;\">\n",
       "      <th></th>\n",
       "      <th>buying price</th>\n",
       "      <th>maintanence price</th>\n",
       "      <th>doors</th>\n",
       "      <th>capacity (persons)</th>\n",
       "      <th>luggage boot size</th>\n",
       "      <th>estimated safety</th>\n",
       "      <th>class</th>\n",
       "    </tr>\n",
       "  </thead>\n",
       "  <tbody>\n",
       "    <tr>\n",
       "      <th>0</th>\n",
       "      <td>vhigh</td>\n",
       "      <td>vhigh</td>\n",
       "      <td>2</td>\n",
       "      <td>2</td>\n",
       "      <td>small</td>\n",
       "      <td>low</td>\n",
       "      <td>unacc</td>\n",
       "    </tr>\n",
       "    <tr>\n",
       "      <th>1</th>\n",
       "      <td>vhigh</td>\n",
       "      <td>vhigh</td>\n",
       "      <td>2</td>\n",
       "      <td>2</td>\n",
       "      <td>small</td>\n",
       "      <td>med</td>\n",
       "      <td>unacc</td>\n",
       "    </tr>\n",
       "    <tr>\n",
       "      <th>2</th>\n",
       "      <td>vhigh</td>\n",
       "      <td>vhigh</td>\n",
       "      <td>2</td>\n",
       "      <td>2</td>\n",
       "      <td>small</td>\n",
       "      <td>high</td>\n",
       "      <td>unacc</td>\n",
       "    </tr>\n",
       "    <tr>\n",
       "      <th>3</th>\n",
       "      <td>vhigh</td>\n",
       "      <td>vhigh</td>\n",
       "      <td>2</td>\n",
       "      <td>2</td>\n",
       "      <td>med</td>\n",
       "      <td>low</td>\n",
       "      <td>unacc</td>\n",
       "    </tr>\n",
       "    <tr>\n",
       "      <th>4</th>\n",
       "      <td>vhigh</td>\n",
       "      <td>vhigh</td>\n",
       "      <td>2</td>\n",
       "      <td>2</td>\n",
       "      <td>med</td>\n",
       "      <td>med</td>\n",
       "      <td>unacc</td>\n",
       "    </tr>\n",
       "  </tbody>\n",
       "</table>\n",
       "</div>"
      ],
      "text/plain": [
       "  buying price maintanence price doors capacity (persons) luggage boot size  \\\n",
       "0        vhigh             vhigh     2                  2             small   \n",
       "1        vhigh             vhigh     2                  2             small   \n",
       "2        vhigh             vhigh     2                  2             small   \n",
       "3        vhigh             vhigh     2                  2               med   \n",
       "4        vhigh             vhigh     2                  2               med   \n",
       "\n",
       "  estimated safety  class  \n",
       "0              low  unacc  \n",
       "1              med  unacc  \n",
       "2             high  unacc  \n",
       "3              low  unacc  \n",
       "4              med  unacc  "
      ]
     },
     "execution_count": 3,
     "metadata": {},
     "output_type": "execute_result"
    }
   ],
   "source": [
    "# Inspect the first 5 entries in dataframe\n",
    "df.columns = ['buying price', 'maintanence price', 'doors', 'capacity (persons)', 'luggage boot size', 'estimated safety', 'class']\n",
    "df.head()"
   ]
  },
  {
   "cell_type": "code",
   "execution_count": 4,
   "metadata": {
    "ExecuteTime": {
     "end_time": "2020-04-22T15:47:08.370181Z",
     "start_time": "2020-04-22T15:47:08.353038Z"
    }
   },
   "outputs": [
    {
     "data": {
      "text/plain": [
       "unacc    1210\n",
       "acc       384\n",
       "good       69\n",
       "vgood      65\n",
       "Name: class, dtype: int64"
      ]
     },
     "execution_count": 4,
     "metadata": {},
     "output_type": "execute_result"
    }
   ],
   "source": [
    "df['class'].value_counts()"
   ]
  },
  {
   "cell_type": "code",
   "execution_count": 4,
   "metadata": {
    "ExecuteTime": {
     "end_time": "2020-04-22T04:44:36.597116Z",
     "start_time": "2020-04-22T04:44:36.590272Z"
    }
   },
   "outputs": [
    {
     "data": {
      "text/plain": [
       "(1728, 7)"
      ]
     },
     "execution_count": 4,
     "metadata": {},
     "output_type": "execute_result"
    }
   ],
   "source": [
    "df.shape"
   ]
  },
  {
   "cell_type": "code",
   "execution_count": 5,
   "metadata": {
    "ExecuteTime": {
     "end_time": "2020-04-22T04:44:36.659208Z",
     "start_time": "2020-04-22T04:44:36.650752Z"
    },
    "colab": {
     "base_uri": "https://localhost:8080/",
     "height": 34
    },
    "colab_type": "code",
    "id": "dGLGhKwGwh_S",
    "outputId": "6cfa52b4-3afc-49a7-c146-ba4f9c35b8be"
   },
   "outputs": [
    {
     "data": {
      "text/plain": [
       "array(['vhigh', 'high', 'med', 'low'], dtype=object)"
      ]
     },
     "execution_count": 5,
     "metadata": {},
     "output_type": "execute_result"
    }
   ],
   "source": [
    "# Check for the unique values in each column\n",
    "df['buying price'].unique()"
   ]
  },
  {
   "cell_type": "code",
   "execution_count": 6,
   "metadata": {
    "ExecuteTime": {
     "end_time": "2020-04-22T04:44:36.761981Z",
     "start_time": "2020-04-22T04:44:36.755526Z"
    },
    "colab": {
     "base_uri": "https://localhost:8080/",
     "height": 34
    },
    "colab_type": "code",
    "id": "X09aZhAkwqjV",
    "outputId": "e1457140-2212-401b-9db9-75887d53990c"
   },
   "outputs": [
    {
     "data": {
      "text/plain": [
       "array(['vhigh', 'high', 'med', 'low'], dtype=object)"
      ]
     },
     "execution_count": 6,
     "metadata": {},
     "output_type": "execute_result"
    }
   ],
   "source": [
    "df['maintanence price'].unique()"
   ]
  },
  {
   "cell_type": "code",
   "execution_count": 7,
   "metadata": {
    "ExecuteTime": {
     "end_time": "2020-04-22T04:44:36.877869Z",
     "start_time": "2020-04-22T04:44:36.870351Z"
    },
    "colab": {
     "base_uri": "https://localhost:8080/",
     "height": 34
    },
    "colab_type": "code",
    "id": "E_XrZTfHww2_",
    "outputId": "984a23ef-0698-4b15-aae9-4a229c57dcd7"
   },
   "outputs": [
    {
     "data": {
      "text/plain": [
       "array(['small', 'med', 'big'], dtype=object)"
      ]
     },
     "execution_count": 7,
     "metadata": {},
     "output_type": "execute_result"
    }
   ],
   "source": [
    "df['luggage boot size'].unique()"
   ]
  },
  {
   "cell_type": "code",
   "execution_count": 8,
   "metadata": {
    "ExecuteTime": {
     "end_time": "2020-04-22T04:44:37.036338Z",
     "start_time": "2020-04-22T04:44:37.029142Z"
    },
    "colab": {
     "base_uri": "https://localhost:8080/",
     "height": 34
    },
    "colab_type": "code",
    "id": "eFzRM8TCwzrh",
    "outputId": "9c713d4b-0dc0-4b4a-c4ec-107c0e80f9b1"
   },
   "outputs": [
    {
     "data": {
      "text/plain": [
       "array(['low', 'med', 'high'], dtype=object)"
      ]
     },
     "execution_count": 8,
     "metadata": {},
     "output_type": "execute_result"
    }
   ],
   "source": [
    "df['estimated safety'].unique()"
   ]
  },
  {
   "cell_type": "code",
   "execution_count": 9,
   "metadata": {
    "ExecuteTime": {
     "end_time": "2020-04-22T04:44:37.195935Z",
     "start_time": "2020-04-22T04:44:37.190061Z"
    },
    "colab": {
     "base_uri": "https://localhost:8080/",
     "height": 34
    },
    "colab_type": "code",
    "id": "4M9Xj6zkzLqE",
    "outputId": "8fdfd3f9-b7da-46ef-a80e-13e3bb2bfa92"
   },
   "outputs": [
    {
     "data": {
      "text/plain": [
       "array(['unacc', 'acc', 'vgood', 'good'], dtype=object)"
      ]
     },
     "execution_count": 9,
     "metadata": {},
     "output_type": "execute_result"
    }
   ],
   "source": [
    "df['class'].unique()"
   ]
  },
  {
   "cell_type": "code",
   "execution_count": 10,
   "metadata": {
    "ExecuteTime": {
     "end_time": "2020-04-22T04:44:37.336104Z",
     "start_time": "2020-04-22T04:44:37.328798Z"
    },
    "colab": {
     "base_uri": "https://localhost:8080/",
     "height": 34
    },
    "colab_type": "code",
    "id": "rZeLGB2g85_x",
    "outputId": "a3242eee-774e-4d9e-a692-9ebf16c6bb47"
   },
   "outputs": [
    {
     "data": {
      "text/plain": [
       "array(['2', '3', '4', '5more'], dtype=object)"
      ]
     },
     "execution_count": 10,
     "metadata": {},
     "output_type": "execute_result"
    }
   ],
   "source": [
    "df['doors'].unique()"
   ]
  },
  {
   "cell_type": "code",
   "execution_count": 11,
   "metadata": {
    "ExecuteTime": {
     "end_time": "2020-04-22T04:44:37.533807Z",
     "start_time": "2020-04-22T04:44:37.525178Z"
    },
    "colab": {
     "base_uri": "https://localhost:8080/",
     "height": 34
    },
    "colab_type": "code",
    "id": "TndYAwkF86Kg",
    "outputId": "99c0017a-3e85-427a-c751-23d386cb9190"
   },
   "outputs": [
    {
     "data": {
      "text/plain": [
       "array(['2', '4', 'more'], dtype=object)"
      ]
     },
     "execution_count": 11,
     "metadata": {},
     "output_type": "execute_result"
    }
   ],
   "source": [
    "df['capacity (persons)'].unique()"
   ]
  },
  {
   "cell_type": "markdown",
   "metadata": {
    "colab_type": "text",
    "id": "N2fAyUs2sIlv"
   },
   "source": [
    "---\n",
    "\n",
    "# Fit Random Forest Model"
   ]
  },
  {
   "cell_type": "code",
   "execution_count": 12,
   "metadata": {
    "ExecuteTime": {
     "end_time": "2020-04-22T04:44:37.844377Z",
     "start_time": "2020-04-22T04:44:37.840709Z"
    },
    "colab": {},
    "colab_type": "code",
    "id": "OYHbpfyKr_Vk"
   },
   "outputs": [],
   "source": [
    "# Create an instance of the sklearn RandomForestClassifier model\n",
    "rf = RandomForestClassifier(n_estimators=500, oob_score=True)"
   ]
  },
  {
   "cell_type": "markdown",
   "metadata": {
    "colab_type": "text",
    "id": "07R9wJS_tx_T"
   },
   "source": [
    "#### Make training and testing data from data set"
   ]
  },
  {
   "cell_type": "code",
   "execution_count": 13,
   "metadata": {
    "ExecuteTime": {
     "end_time": "2020-04-22T04:44:38.198492Z",
     "start_time": "2020-04-22T04:44:38.180615Z"
    },
    "colab": {},
    "colab_type": "code",
    "id": "vNjnqW1Asl5A"
   },
   "outputs": [],
   "source": [
    "# Convert text values to numerical values\n",
    "convert_dict = {'small':0, 'low':0, 'med':1, 'high':2, 'big':2, 'vhigh':3}\n",
    "converted_df = df.copy()\n",
    "converted_df['buying price'] = df['buying price'].apply(lambda s: convert_dict[s])\n",
    "converted_df['maintanence price'] = df['maintanence price'].apply(lambda s: convert_dict[s])\n",
    "converted_df['luggage boot size'] = df['luggage boot size'].apply(lambda s: convert_dict[s])\n",
    "converted_df['estimated safety'] = df['estimated safety'].apply(lambda s: convert_dict[s])"
   ]
  },
  {
   "cell_type": "code",
   "execution_count": 14,
   "metadata": {
    "ExecuteTime": {
     "end_time": "2020-04-22T04:44:38.370940Z",
     "start_time": "2020-04-22T04:44:38.363848Z"
    },
    "colab": {},
    "colab_type": "code",
    "id": "bIjQeaIp9G5d"
   },
   "outputs": [],
   "source": [
    "converted_df['doors'] = df['doors'].apply(lambda s: 5 if s == '5more' else s)\n",
    "converted_df['capacity (persons)'] = df['capacity (persons)'].apply(lambda s: 5 if s == 'more' else s)"
   ]
  },
  {
   "cell_type": "code",
   "execution_count": 15,
   "metadata": {
    "ExecuteTime": {
     "end_time": "2020-04-22T04:44:38.721035Z",
     "start_time": "2020-04-22T04:44:38.704893Z"
    },
    "colab": {
     "base_uri": "https://localhost:8080/",
     "height": 221
    },
    "colab_type": "code",
    "id": "bJJY86Z-w_14",
    "outputId": "04213487-dad2-426b-b127-0d9e5ae8507e"
   },
   "outputs": [
    {
     "data": {
      "text/html": [
       "<div>\n",
       "<style scoped>\n",
       "    .dataframe tbody tr th:only-of-type {\n",
       "        vertical-align: middle;\n",
       "    }\n",
       "\n",
       "    .dataframe tbody tr th {\n",
       "        vertical-align: top;\n",
       "    }\n",
       "\n",
       "    .dataframe thead th {\n",
       "        text-align: right;\n",
       "    }\n",
       "</style>\n",
       "<table border=\"1\" class=\"dataframe\">\n",
       "  <thead>\n",
       "    <tr style=\"text-align: right;\">\n",
       "      <th></th>\n",
       "      <th>buying price</th>\n",
       "      <th>maintanence price</th>\n",
       "      <th>doors</th>\n",
       "      <th>capacity (persons)</th>\n",
       "      <th>luggage boot size</th>\n",
       "      <th>estimated safety</th>\n",
       "      <th>class</th>\n",
       "    </tr>\n",
       "  </thead>\n",
       "  <tbody>\n",
       "    <tr>\n",
       "      <th>0</th>\n",
       "      <td>3</td>\n",
       "      <td>3</td>\n",
       "      <td>2</td>\n",
       "      <td>2</td>\n",
       "      <td>0</td>\n",
       "      <td>0</td>\n",
       "      <td>unacc</td>\n",
       "    </tr>\n",
       "    <tr>\n",
       "      <th>1</th>\n",
       "      <td>3</td>\n",
       "      <td>3</td>\n",
       "      <td>2</td>\n",
       "      <td>2</td>\n",
       "      <td>0</td>\n",
       "      <td>1</td>\n",
       "      <td>unacc</td>\n",
       "    </tr>\n",
       "    <tr>\n",
       "      <th>2</th>\n",
       "      <td>3</td>\n",
       "      <td>3</td>\n",
       "      <td>2</td>\n",
       "      <td>2</td>\n",
       "      <td>0</td>\n",
       "      <td>2</td>\n",
       "      <td>unacc</td>\n",
       "    </tr>\n",
       "    <tr>\n",
       "      <th>3</th>\n",
       "      <td>3</td>\n",
       "      <td>3</td>\n",
       "      <td>2</td>\n",
       "      <td>2</td>\n",
       "      <td>1</td>\n",
       "      <td>0</td>\n",
       "      <td>unacc</td>\n",
       "    </tr>\n",
       "    <tr>\n",
       "      <th>4</th>\n",
       "      <td>3</td>\n",
       "      <td>3</td>\n",
       "      <td>2</td>\n",
       "      <td>2</td>\n",
       "      <td>1</td>\n",
       "      <td>1</td>\n",
       "      <td>unacc</td>\n",
       "    </tr>\n",
       "  </tbody>\n",
       "</table>\n",
       "</div>"
      ],
      "text/plain": [
       "   buying price  maintanence price doors capacity (persons)  \\\n",
       "0             3                  3     2                  2   \n",
       "1             3                  3     2                  2   \n",
       "2             3                  3     2                  2   \n",
       "3             3                  3     2                  2   \n",
       "4             3                  3     2                  2   \n",
       "\n",
       "   luggage boot size  estimated safety  class  \n",
       "0                  0                 0  unacc  \n",
       "1                  0                 1  unacc  \n",
       "2                  0                 2  unacc  \n",
       "3                  1                 0  unacc  \n",
       "4                  1                 1  unacc  "
      ]
     },
     "execution_count": 15,
     "metadata": {},
     "output_type": "execute_result"
    }
   ],
   "source": [
    "converted_df.head()"
   ]
  },
  {
   "cell_type": "code",
   "execution_count": 16,
   "metadata": {
    "ExecuteTime": {
     "end_time": "2020-04-22T04:44:38.956377Z",
     "start_time": "2020-04-22T04:44:38.939087Z"
    },
    "colab": {
     "base_uri": "https://localhost:8080/",
     "height": 221
    },
    "colab_type": "code",
    "id": "kF_NpIszy1oL",
    "outputId": "051f4228-f4d2-430e-839b-96c58da30e1f"
   },
   "outputs": [
    {
     "data": {
      "text/html": [
       "<div>\n",
       "<style scoped>\n",
       "    .dataframe tbody tr th:only-of-type {\n",
       "        vertical-align: middle;\n",
       "    }\n",
       "\n",
       "    .dataframe tbody tr th {\n",
       "        vertical-align: top;\n",
       "    }\n",
       "\n",
       "    .dataframe thead th {\n",
       "        text-align: right;\n",
       "    }\n",
       "</style>\n",
       "<table border=\"1\" class=\"dataframe\">\n",
       "  <thead>\n",
       "    <tr style=\"text-align: right;\">\n",
       "      <th></th>\n",
       "      <th>buying price</th>\n",
       "      <th>maintanence price</th>\n",
       "      <th>doors</th>\n",
       "      <th>capacity (persons)</th>\n",
       "      <th>luggage boot size</th>\n",
       "      <th>estimated safety</th>\n",
       "      <th>class</th>\n",
       "    </tr>\n",
       "  </thead>\n",
       "  <tbody>\n",
       "    <tr>\n",
       "      <th>0</th>\n",
       "      <td>3</td>\n",
       "      <td>3</td>\n",
       "      <td>2</td>\n",
       "      <td>2</td>\n",
       "      <td>0</td>\n",
       "      <td>0</td>\n",
       "      <td>2</td>\n",
       "    </tr>\n",
       "    <tr>\n",
       "      <th>1</th>\n",
       "      <td>3</td>\n",
       "      <td>3</td>\n",
       "      <td>2</td>\n",
       "      <td>2</td>\n",
       "      <td>0</td>\n",
       "      <td>1</td>\n",
       "      <td>2</td>\n",
       "    </tr>\n",
       "    <tr>\n",
       "      <th>2</th>\n",
       "      <td>3</td>\n",
       "      <td>3</td>\n",
       "      <td>2</td>\n",
       "      <td>2</td>\n",
       "      <td>0</td>\n",
       "      <td>2</td>\n",
       "      <td>2</td>\n",
       "    </tr>\n",
       "    <tr>\n",
       "      <th>3</th>\n",
       "      <td>3</td>\n",
       "      <td>3</td>\n",
       "      <td>2</td>\n",
       "      <td>2</td>\n",
       "      <td>1</td>\n",
       "      <td>0</td>\n",
       "      <td>2</td>\n",
       "    </tr>\n",
       "    <tr>\n",
       "      <th>4</th>\n",
       "      <td>3</td>\n",
       "      <td>3</td>\n",
       "      <td>2</td>\n",
       "      <td>2</td>\n",
       "      <td>1</td>\n",
       "      <td>1</td>\n",
       "      <td>2</td>\n",
       "    </tr>\n",
       "  </tbody>\n",
       "</table>\n",
       "</div>"
      ],
      "text/plain": [
       "   buying price  maintanence price doors capacity (persons)  \\\n",
       "0             3                  3     2                  2   \n",
       "1             3                  3     2                  2   \n",
       "2             3                  3     2                  2   \n",
       "3             3                  3     2                  2   \n",
       "4             3                  3     2                  2   \n",
       "\n",
       "   luggage boot size  estimated safety  class  \n",
       "0                  0                 0      2  \n",
       "1                  0                 1      2  \n",
       "2                  0                 2      2  \n",
       "3                  1                 0      2  \n",
       "4                  1                 1      2  "
      ]
     },
     "execution_count": 16,
     "metadata": {},
     "output_type": "execute_result"
    }
   ],
   "source": [
    "# Convert class labels to numerical values\n",
    "le = LabelEncoder()\n",
    "le.fit(converted_df['class'].unique())\n",
    "converted_df['class'] = le.transform(converted_df['class'].values)\n",
    "converted_df.head()"
   ]
  },
  {
   "cell_type": "code",
   "execution_count": 17,
   "metadata": {
    "ExecuteTime": {
     "end_time": "2020-04-22T04:44:39.271063Z",
     "start_time": "2020-04-22T04:44:39.265443Z"
    },
    "colab": {
     "base_uri": "https://localhost:8080/",
     "height": 34
    },
    "colab_type": "code",
    "id": "fXWF0y6Az6xx",
    "outputId": "2921bbfb-9115-41ee-9d87-0611144f2b7a"
   },
   "outputs": [
    {
     "data": {
      "text/plain": [
       "array(['acc', 'good', 'unacc', 'vgood'], dtype=object)"
      ]
     },
     "execution_count": 17,
     "metadata": {},
     "output_type": "execute_result"
    }
   ],
   "source": [
    "# Inspect the label encoder's class labels\n",
    "le.classes_"
   ]
  },
  {
   "cell_type": "code",
   "execution_count": 18,
   "metadata": {
    "ExecuteTime": {
     "end_time": "2020-04-22T04:44:39.887019Z",
     "start_time": "2020-04-22T04:44:39.872683Z"
    },
    "colab": {},
    "colab_type": "code",
    "id": "_ursoEOu0AhU"
   },
   "outputs": [],
   "source": [
    "# Extract values from dataframe\n",
    "X = converted_df[['buying price', 'maintanence price', 'doors', 'capacity (persons)', 'luggage boot size', 'estimated safety']].astype(float).values\n",
    "Y = converted_df['class'].astype(int).values"
   ]
  },
  {
   "cell_type": "code",
   "execution_count": 19,
   "metadata": {
    "ExecuteTime": {
     "end_time": "2020-04-22T04:44:40.903672Z",
     "start_time": "2020-04-22T04:44:40.897066Z"
    },
    "colab": {},
    "colab_type": "code",
    "id": "kgp_M3LF0c1i"
   },
   "outputs": [],
   "source": [
    "# Create training and testing data\n",
    "X_train, X_test, y_train, y_test = train_test_split(X, Y, test_size=0.2, random_state=0)"
   ]
  },
  {
   "cell_type": "markdown",
   "metadata": {
    "colab_type": "text",
    "id": "ss86qERw7d4o"
   },
   "source": [
    "#### Fit random forest on training data"
   ]
  },
  {
   "cell_type": "code",
   "execution_count": 20,
   "metadata": {
    "ExecuteTime": {
     "end_time": "2020-04-22T04:44:42.684354Z",
     "start_time": "2020-04-22T04:44:41.358164Z"
    },
    "colab": {
     "base_uri": "https://localhost:8080/",
     "height": 153
    },
    "colab_type": "code",
    "id": "3OC4A0_t7Z4H",
    "outputId": "bc783b32-9e72-421b-9531-bf587a0619da"
   },
   "outputs": [
    {
     "data": {
      "text/plain": [
       "RandomForestClassifier(bootstrap=True, ccp_alpha=0.0, class_weight=None,\n",
       "                       criterion='gini', max_depth=None, max_features='auto',\n",
       "                       max_leaf_nodes=None, max_samples=None,\n",
       "                       min_impurity_decrease=0.0, min_impurity_split=None,\n",
       "                       min_samples_leaf=1, min_samples_split=2,\n",
       "                       min_weight_fraction_leaf=0.0, n_estimators=500,\n",
       "                       n_jobs=None, oob_score=True, random_state=None,\n",
       "                       verbose=0, warm_start=False)"
      ]
     },
     "execution_count": 20,
     "metadata": {},
     "output_type": "execute_result"
    }
   ],
   "source": [
    "# Fit random forest model on training data\n",
    "rf.fit(X_train, y_train)"
   ]
  },
  {
   "cell_type": "markdown",
   "metadata": {
    "colab_type": "text",
    "id": "Nou5W9cU-Ehr"
   },
   "source": [
    "#### Evaluate the fit"
   ]
  },
  {
   "cell_type": "code",
   "execution_count": 21,
   "metadata": {
    "ExecuteTime": {
     "end_time": "2020-04-22T04:44:43.198155Z",
     "start_time": "2020-04-22T04:44:42.850596Z"
    },
    "colab": {
     "base_uri": "https://localhost:8080/",
     "height": 119
    },
    "colab_type": "code",
    "id": "85SF6J4N8cuA",
    "outputId": "6e1c664f-6803-4183-d1de-4730d650eb8e"
   },
   "outputs": [
    {
     "name": "stdout",
     "output_type": "stream",
     "text": [
      "Training accuracy: 1.0\n",
      "Training confusion matrix:\n",
      " [[305   0   0   0]\n",
      " [  0  52   0   0]\n",
      " [  0   0 970   0]\n",
      " [  0   0   0  55]]\n"
     ]
    }
   ],
   "source": [
    "# Print training accuracy and confusion matrix\n",
    "y_train_pred = rf.predict(X_train)\n",
    "print('Training accuracy:', rf.score(X_train, y_train))\n",
    "print('Training confusion matrix:\\n', confusion_matrix(y_train, y_train_pred))"
   ]
  },
  {
   "cell_type": "code",
   "execution_count": 22,
   "metadata": {
    "ExecuteTime": {
     "end_time": "2020-04-22T04:44:43.517926Z",
     "start_time": "2020-04-22T04:44:43.301054Z"
    },
    "colab": {
     "base_uri": "https://localhost:8080/",
     "height": 119
    },
    "colab_type": "code",
    "id": "ij9fKkle-GYS",
    "outputId": "7a907974-fb21-47c2-d53a-ae530ba6398f"
   },
   "outputs": [
    {
     "name": "stdout",
     "output_type": "stream",
     "text": [
      "Training accuracy: 0.976878612716763\n",
      "Training confusion matrix:\n",
      " [[ 76   2   0   1]\n",
      " [  1  15   0   1]\n",
      " [  2   0 238   0]\n",
      " [  1   0   0   9]]\n"
     ]
    }
   ],
   "source": [
    "# Print training accuracy and confusion matrix\n",
    "y_test_pred = rf.predict(X_test)\n",
    "print('Training accuracy:', rf.score(X_test, y_test))\n",
    "print('Training confusion matrix:\\n', confusion_matrix(y_test, y_test_pred))"
   ]
  },
  {
   "cell_type": "markdown",
   "metadata": {
    "colab_type": "text",
    "id": "PKeKtOAD-lCl"
   },
   "source": [
    "---\n",
    "# Visualizations"
   ]
  },
  {
   "cell_type": "code",
   "execution_count": 23,
   "metadata": {
    "ExecuteTime": {
     "end_time": "2020-04-22T04:44:44.404904Z",
     "start_time": "2020-04-22T04:44:44.274716Z"
    },
    "colab": {},
    "colab_type": "code",
    "id": "e9L0S1mM-NFG"
   },
   "outputs": [],
   "source": [
    "# Extract feature importance from the random forest\n",
    "feature_val = rf.feature_importances_\n",
    "feature_std = np.std([tree.feature_importances_ for tree in rf.estimators_], axis=0)\n",
    "values = np.vstack((feature_val, feature_std)).T\n",
    "\n",
    "feature_ranking = pd.DataFrame(values, columns=['feature importance', 'importance std'], index=['buying price', 'maintanence price', 'doors', 'capacity (persons)', 'luggage boot size', 'estimated safety'])\n",
    "feature_ranking = feature_ranking.sort_values(by='feature importance', ascending=False)"
   ]
  },
  {
   "cell_type": "markdown",
   "metadata": {
    "colab_type": "text",
    "id": "sTYz3y0OCfZY"
   },
   "source": [
    "#### Print Graph Data for Giulia"
   ]
  },
  {
   "cell_type": "code",
   "execution_count": 24,
   "metadata": {
    "ExecuteTime": {
     "end_time": "2020-04-22T04:44:45.280303Z",
     "start_time": "2020-04-22T04:44:45.274623Z"
    },
    "colab": {
     "base_uri": "https://localhost:8080/",
     "height": 136
    },
    "colab_type": "code",
    "id": "DAZyPLhJCJvW",
    "outputId": "d2b32d8c-6051-4e2d-9bfc-c185cf867010"
   },
   "outputs": [
    {
     "name": "stdout",
     "output_type": "stream",
     "text": [
      "                    feature importance  importance std\n",
      "estimated safety              0.308098        0.073846\n",
      "capacity (persons)            0.254996        0.059438\n",
      "buying price                  0.147882        0.073370\n",
      "maintanence price             0.136933        0.061290\n",
      "luggage boot size             0.093071        0.040980\n",
      "doors                         0.059020        0.015405\n"
     ]
    }
   ],
   "source": [
    "print(feature_ranking)"
   ]
  },
  {
   "cell_type": "code",
   "execution_count": 25,
   "metadata": {
    "ExecuteTime": {
     "end_time": "2020-04-22T04:44:45.525998Z",
     "start_time": "2020-04-22T04:44:45.473957Z"
    },
    "colab": {},
    "colab_type": "code",
    "id": "lq7NWko1UyfQ"
   },
   "outputs": [],
   "source": [
    "feature_ranking.to_csv('feature_ranking.csv')\n",
    "converted_df.to_csv('converted_df.csv')"
   ]
  },
  {
   "cell_type": "markdown",
   "metadata": {
    "colab_type": "text",
    "id": "mVekClNICoog"
   },
   "source": [
    "#### Visualize feature importance"
   ]
  },
  {
   "cell_type": "code",
   "execution_count": 26,
   "metadata": {
    "ExecuteTime": {
     "end_time": "2020-04-22T04:44:45.787515Z",
     "start_time": "2020-04-22T04:44:45.781126Z"
    },
    "colab": {
     "base_uri": "https://localhost:8080/",
     "height": 34
    },
    "colab_type": "code",
    "id": "QRskDajcPfJW",
    "outputId": "e6582ec1-31e9-4494-d63f-854cf7b9479a"
   },
   "outputs": [
    {
     "data": {
      "text/plain": [
       "(6,)"
      ]
     },
     "execution_count": 26,
     "metadata": {},
     "output_type": "execute_result"
    }
   ],
   "source": [
    "feature_std.shape"
   ]
  },
  {
   "cell_type": "code",
   "execution_count": 27,
   "metadata": {
    "ExecuteTime": {
     "end_time": "2020-04-22T04:44:46.338618Z",
     "start_time": "2020-04-22T04:44:46.012379Z"
    },
    "colab": {
     "base_uri": "https://localhost:8080/",
     "height": 404
    },
    "colab_type": "code",
    "id": "Lncqh5hS_Xjc",
    "outputId": "f399029c-04b5-4f12-941b-772c61eab830"
   },
   "outputs": [
    {
     "data": {
      "image/png": "[encoded data removed]",
      "text/plain": [
       "<Figure size 720x360 with 1 Axes>"
      ]
     },
     "metadata": {
      "needs_background": "light"
     },
     "output_type": "display_data"
    }
   ],
   "source": [
    "# Visualize bar graph of feature importance\n",
    "fig, ax = plt.subplots(1, 1, figsize=(10, 5))\n",
    "ax.bar(np.arange(len(feature_ranking)), feature_ranking.values[:, 0], tick_label=feature_ranking.index, color='red', yerr=feature_std)\n",
    "ax.set_xticklabels(labels=feature_ranking.index, rotation=70, ha='center')\n",
    "plt.show()"
   ]
  },
  {
   "cell_type": "code",
   "execution_count": 28,
   "metadata": {
    "ExecuteTime": {
     "end_time": "2020-04-22T04:44:46.626978Z",
     "start_time": "2020-04-22T04:44:46.478058Z"
    },
    "colab": {
     "base_uri": "https://localhost:8080/",
     "height": 71
    },
    "colab_type": "code",
    "id": "4odn5Tb7AoX2",
    "outputId": "5b214a9a-7d62-4c58-c8a2-c9e2b21c2e40"
   },
   "outputs": [],
   "source": [
    "# Scatter plots\n",
    "import seaborn as sns\n",
    "\n",
    "sns.set()"
   ]
  },
  {
   "cell_type": "code",
   "execution_count": 29,
   "metadata": {
    "ExecuteTime": {
     "end_time": "2020-04-22T04:44:46.814789Z",
     "start_time": "2020-04-22T04:44:46.807125Z"
    }
   },
   "outputs": [
    {
     "data": {
      "text/plain": [
       "array([0, 1, 2, 3])"
      ]
     },
     "execution_count": 29,
     "metadata": {},
     "output_type": "execute_result"
    }
   ],
   "source": [
    "np.unique(y_test_pred)"
   ]
  },
  {
   "cell_type": "code",
   "execution_count": 30,
   "metadata": {
    "ExecuteTime": {
     "end_time": "2020-04-22T04:44:46.950744Z",
     "start_time": "2020-04-22T04:44:46.944530Z"
    }
   },
   "outputs": [
    {
     "data": {
      "text/plain": [
       "array([[1, 2, 3],\n",
       "       [4, 5, 6],\n",
       "       [7, 8, 9]])"
      ]
     },
     "execution_count": 30,
     "metadata": {},
     "output_type": "execute_result"
    }
   ],
   "source": [
    "np.array([\n",
    "    [1, 2, 3],\n",
    "    [4, 5, 6],\n",
    "    [7, 8, 9]\n",
    "])"
   ]
  },
  {
   "cell_type": "code",
   "execution_count": 31,
   "metadata": {
    "ExecuteTime": {
     "end_time": "2020-04-22T04:44:47.128379Z",
     "start_time": "2020-04-22T04:44:47.115317Z"
    }
   },
   "outputs": [],
   "source": [
    "def acc_plot(y_true, y_pred, group_var, group_labs, class_labs, barwidth=.2):\n",
    "    '''Side-by-side bar plots of precision, recall accuracy, grouped by `group_var`.\n",
    "    '''\n",
    "    groups = np.unique(group_var)\n",
    "    classes = np.unique(y_true)\n",
    "    scores = []\n",
    "    \n",
    "    for group in groups:\n",
    "        y_true_group = y_true[group_var == group]\n",
    "        y_pred_group = y_pred[group_var == group]\n",
    "        \n",
    "        class_scores = []\n",
    "        for cls in classes:\n",
    "            class_scores.append(accuracy(y_true_group, y_pred_group))\n",
    "        scores.append(class_scores)\n",
    "    \n",
    "    scores = np.array(scores)\n",
    "    \n",
    "    plt.figure(figsize=(10, 5))\n",
    "    for i, cls in enumerate(class_labs):\n",
    "        plt.bar(groups + barwidth * i, scores[:, i], label=cls, width=barwidth)\n",
    "    plt.xticks(ticks=groups + barwidth, labels=group_labs)\n",
    "    plt.legend(title=\"Car quality\")\n",
    "    plt.ylabel(\"Accuracy\")\n",
    "    plt.xlim(groups.min(), groups.max() + 1)\n",
    "\n",
    "    \n",
    "def accuracy(y_true, y_pred):\n",
    "    return np.mean(y_true == y_pred)"
   ]
  },
  {
   "cell_type": "code",
   "execution_count": 32,
   "metadata": {
    "ExecuteTime": {
     "end_time": "2020-04-22T04:44:49.361191Z",
     "start_time": "2020-04-22T04:44:47.286929Z"
    }
   },
   "outputs": [
    {
     "name": "stdout",
     "output_type": "stream",
     "text": [
      "0\n"
     ]
    },
    {
     "data": {
      "image/png": "[encoded data removed]",
      "text/plain": [
       "<Figure size 720x360 with 1 Axes>"
      ]
     },
     "metadata": {},
     "output_type": "display_data"
    },
    {
     "name": "stdout",
     "output_type": "stream",
     "text": [
      "1\n"
     ]
    },
    {
     "data": {
      "image/png": "[encoded data removed]",
      "text/plain": [
       "<Figure size 720x360 with 1 Axes>"
      ]
     },
     "metadata": {},
     "output_type": "display_data"
    },
    {
     "name": "stdout",
     "output_type": "stream",
     "text": [
      "2\n"
     ]
    },
    {
     "data": {
      "image/png": "[encoded data removed]",
      "text/plain": [
       "<Figure size 720x360 with 1 Axes>"
      ]
     },
     "metadata": {},
     "output_type": "display_data"
    },
    {
     "name": "stdout",
     "output_type": "stream",
     "text": [
      "3\n"
     ]
    },
    {
     "data": {
      "image/png": "[encoded data removed]",
      "text/plain": [
       "<Figure size 720x360 with 1 Axes>"
      ]
     },
     "metadata": {},
     "output_type": "display_data"
    },
    {
     "name": "stdout",
     "output_type": "stream",
     "text": [
      "4\n"
     ]
    },
    {
     "data": {
      "image/png": "[encoded data removed]",
      "text/plain": [
       "<Figure size 720x360 with 1 Axes>"
      ]
     },
     "metadata": {},
     "output_type": "display_data"
    },
    {
     "name": "stdout",
     "output_type": "stream",
     "text": [
      "5\n"
     ]
    },
    {
     "data": {
      "image/png": "[encoded data removed]",
      "text/plain": [
       "<Figure size 720x360 with 1 Axes>"
      ]
     },
     "metadata": {},
     "output_type": "display_data"
    }
   ],
   "source": [
    "def plot_acc_vs_group(group_varname):\n",
    "    class_labs = df['class'].unique()\n",
    "    group_labs = df[group_varname].unique()\n",
    "    group_var_idx = np.argwhere(df.columns.values == group_varname)[0, 0]\n",
    "    print(group_var_idx)\n",
    "    group_var = X_test[:, group_var_idx]\n",
    "\n",
    "    acc_plot(y_test, y_test_pred, group_var, group_labs, class_labs, barwidth=.1)\n",
    "    plt.title(f\"Accuracy vs. {group_varname}\")\n",
    "    plt.xlabel(group_varname);\n",
    "\n",
    "    \n",
    "for group_varname in df.columns:\n",
    "    if group_varname == 'class':\n",
    "        continue\n",
    "    plot_acc_vs_group(group_varname)\n",
    "    plt.show()"
   ]
  },
  {
   "cell_type": "markdown",
   "metadata": {
    "colab": {},
    "colab_type": "code",
    "id": "_Mx3tqoiQB2g"
   },
   "source": [
    "### Using `scikit-plot`"
   ]
  },
  {
   "cell_type": "code",
   "execution_count": 33,
   "metadata": {
    "ExecuteTime": {
     "end_time": "2020-04-22T04:44:51.648201Z",
     "start_time": "2020-04-22T04:44:51.629202Z"
    }
   },
   "outputs": [],
   "source": [
    "import scikitplot as skplt"
   ]
  },
  {
   "cell_type": "code",
   "execution_count": 107,
   "metadata": {
    "ExecuteTime": {
     "end_time": "2020-04-15T03:37:12.630145Z",
     "start_time": "2020-04-15T03:37:12.319532Z"
    }
   },
   "outputs": [
    {
     "data": {
      "image/png": "[encoded data removed]",
      "text/plain": [
       "<Figure size 432x288 with 2 Axes>"
      ]
     },
     "metadata": {
      "needs_background": "light"
     },
     "output_type": "display_data"
    }
   ],
   "source": [
    "# Confusion matrix\n",
    "skplt.metrics.plot_confusion_matrix(y_test, y_test_pred);"
   ]
  },
  {
   "cell_type": "code",
   "execution_count": 108,
   "metadata": {
    "ExecuteTime": {
     "end_time": "2020-04-15T03:38:04.478206Z",
     "start_time": "2020-04-15T03:38:03.939693Z"
    }
   },
   "outputs": [
    {
     "data": {
      "text/plain": [
       "<matplotlib.axes._subplots.AxesSubplot at 0x11b331cd0>"
      ]
     },
     "execution_count": 108,
     "metadata": {},
     "output_type": "execute_result"
    },
    {
     "data": {
      "image/png": "[encoded data removed]",
      "text/plain": [
       "<Figure size 432x288 with 1 Axes>"
      ]
     },
     "metadata": {
      "needs_background": "light"
     },
     "output_type": "display_data"
    }
   ],
   "source": [
    "y_test_proba = rf.predict_proba(X_test)\n",
    "skplt.metrics.plot_roc(y_test, y_test_proba)"
   ]
  },
  {
   "cell_type": "code",
   "execution_count": 111,
   "metadata": {
    "ExecuteTime": {
     "end_time": "2020-04-15T03:38:53.515213Z",
     "start_time": "2020-04-15T03:38:53.095070Z"
    },
    "scrolled": true
   },
   "outputs": [
    {
     "data": {
      "text/plain": [
       "<matplotlib.axes._subplots.AxesSubplot at 0x11aca9650>"
      ]
     },
     "execution_count": 111,
     "metadata": {},
     "output_type": "execute_result"
    },
    {
     "data": {
      "image/png": "[encoded data removed]",
      "text/plain": [
       "<Figure size 432x288 with 1 Axes>"
      ]
     },
     "metadata": {
      "needs_background": "light"
     },
     "output_type": "display_data"
    }
   ],
   "source": [
    "skplt.metrics.plot_precision_recall(y_test, y_test_proba)"
   ]
  },
  {
   "cell_type": "markdown",
   "metadata": {},
   "source": [
    "### Plots of data"
   ]
  },
  {
   "cell_type": "code",
   "execution_count": 113,
   "metadata": {
    "ExecuteTime": {
     "end_time": "2020-04-15T03:42:03.971032Z",
     "start_time": "2020-04-15T03:42:03.951498Z"
    }
   },
   "outputs": [
    {
     "data": {
      "text/html": [
       "<div>\n",
       "<style scoped>\n",
       "    .dataframe tbody tr th:only-of-type {\n",
       "        vertical-align: middle;\n",
       "    }\n",
       "\n",
       "    .dataframe tbody tr th {\n",
       "        vertical-align: top;\n",
       "    }\n",
       "\n",
       "    .dataframe thead th {\n",
       "        text-align: right;\n",
       "    }\n",
       "</style>\n",
       "<table border=\"1\" class=\"dataframe\">\n",
       "  <thead>\n",
       "    <tr style=\"text-align: right;\">\n",
       "      <th></th>\n",
       "      <th>buying price</th>\n",
       "      <th>maintanence price</th>\n",
       "      <th>doors</th>\n",
       "      <th>capacity (persons)</th>\n",
       "      <th>luggage boot size</th>\n",
       "      <th>estimated safety</th>\n",
       "      <th>class</th>\n",
       "    </tr>\n",
       "  </thead>\n",
       "  <tbody>\n",
       "    <tr>\n",
       "      <th>0</th>\n",
       "      <td>vhigh</td>\n",
       "      <td>vhigh</td>\n",
       "      <td>2</td>\n",
       "      <td>2</td>\n",
       "      <td>small</td>\n",
       "      <td>low</td>\n",
       "      <td>unacc</td>\n",
       "    </tr>\n",
       "    <tr>\n",
       "      <th>1</th>\n",
       "      <td>vhigh</td>\n",
       "      <td>vhigh</td>\n",
       "      <td>2</td>\n",
       "      <td>2</td>\n",
       "      <td>small</td>\n",
       "      <td>med</td>\n",
       "      <td>unacc</td>\n",
       "    </tr>\n",
       "    <tr>\n",
       "      <th>2</th>\n",
       "      <td>vhigh</td>\n",
       "      <td>vhigh</td>\n",
       "      <td>2</td>\n",
       "      <td>2</td>\n",
       "      <td>small</td>\n",
       "      <td>high</td>\n",
       "      <td>unacc</td>\n",
       "    </tr>\n",
       "    <tr>\n",
       "      <th>3</th>\n",
       "      <td>vhigh</td>\n",
       "      <td>vhigh</td>\n",
       "      <td>2</td>\n",
       "      <td>2</td>\n",
       "      <td>med</td>\n",
       "      <td>low</td>\n",
       "      <td>unacc</td>\n",
       "    </tr>\n",
       "    <tr>\n",
       "      <th>4</th>\n",
       "      <td>vhigh</td>\n",
       "      <td>vhigh</td>\n",
       "      <td>2</td>\n",
       "      <td>2</td>\n",
       "      <td>med</td>\n",
       "      <td>med</td>\n",
       "      <td>unacc</td>\n",
       "    </tr>\n",
       "    <tr>\n",
       "      <th>...</th>\n",
       "      <td>...</td>\n",
       "      <td>...</td>\n",
       "      <td>...</td>\n",
       "      <td>...</td>\n",
       "      <td>...</td>\n",
       "      <td>...</td>\n",
       "      <td>...</td>\n",
       "    </tr>\n",
       "    <tr>\n",
       "      <th>1723</th>\n",
       "      <td>low</td>\n",
       "      <td>low</td>\n",
       "      <td>5more</td>\n",
       "      <td>more</td>\n",
       "      <td>med</td>\n",
       "      <td>med</td>\n",
       "      <td>good</td>\n",
       "    </tr>\n",
       "    <tr>\n",
       "      <th>1724</th>\n",
       "      <td>low</td>\n",
       "      <td>low</td>\n",
       "      <td>5more</td>\n",
       "      <td>more</td>\n",
       "      <td>med</td>\n",
       "      <td>high</td>\n",
       "      <td>vgood</td>\n",
       "    </tr>\n",
       "    <tr>\n",
       "      <th>1725</th>\n",
       "      <td>low</td>\n",
       "      <td>low</td>\n",
       "      <td>5more</td>\n",
       "      <td>more</td>\n",
       "      <td>big</td>\n",
       "      <td>low</td>\n",
       "      <td>unacc</td>\n",
       "    </tr>\n",
       "    <tr>\n",
       "      <th>1726</th>\n",
       "      <td>low</td>\n",
       "      <td>low</td>\n",
       "      <td>5more</td>\n",
       "      <td>more</td>\n",
       "      <td>big</td>\n",
       "      <td>med</td>\n",
       "      <td>good</td>\n",
       "    </tr>\n",
       "    <tr>\n",
       "      <th>1727</th>\n",
       "      <td>low</td>\n",
       "      <td>low</td>\n",
       "      <td>5more</td>\n",
       "      <td>more</td>\n",
       "      <td>big</td>\n",
       "      <td>high</td>\n",
       "      <td>vgood</td>\n",
       "    </tr>\n",
       "  </tbody>\n",
       "</table>\n",
       "<p>1728 rows × 7 columns</p>\n",
       "</div>"
      ],
      "text/plain": [
       "     buying price maintanence price  doors capacity (persons)  \\\n",
       "0           vhigh             vhigh      2                  2   \n",
       "1           vhigh             vhigh      2                  2   \n",
       "2           vhigh             vhigh      2                  2   \n",
       "3           vhigh             vhigh      2                  2   \n",
       "4           vhigh             vhigh      2                  2   \n",
       "...           ...               ...    ...                ...   \n",
       "1723          low               low  5more               more   \n",
       "1724          low               low  5more               more   \n",
       "1725          low               low  5more               more   \n",
       "1726          low               low  5more               more   \n",
       "1727          low               low  5more               more   \n",
       "\n",
       "     luggage boot size estimated safety  class  \n",
       "0                small              low  unacc  \n",
       "1                small              med  unacc  \n",
       "2                small             high  unacc  \n",
       "3                  med              low  unacc  \n",
       "4                  med              med  unacc  \n",
       "...                ...              ...    ...  \n",
       "1723               med              med   good  \n",
       "1724               med             high  vgood  \n",
       "1725               big              low  unacc  \n",
       "1726               big              med   good  \n",
       "1727               big             high  vgood  \n",
       "\n",
       "[1728 rows x 7 columns]"
      ]
     },
     "execution_count": 113,
     "metadata": {},
     "output_type": "execute_result"
    }
   ],
   "source": [
    "df"
   ]
  },
  {
   "cell_type": "code",
   "execution_count": 122,
   "metadata": {
    "ExecuteTime": {
     "end_time": "2020-04-15T03:46:49.375528Z",
     "start_time": "2020-04-15T03:46:49.360819Z"
    }
   },
   "outputs": [],
   "source": [
    "df_grouped = df.groupby(['class', 'maintanence price']).size().reset_index()\n",
    "df_grouped = df_grouped.rename(columns={0:'count'})"
   ]
  },
  {
   "cell_type": "code",
   "execution_count": 123,
   "metadata": {
    "ExecuteTime": {
     "end_time": "2020-04-15T03:46:49.977737Z",
     "start_time": "2020-04-15T03:46:49.963058Z"
    }
   },
   "outputs": [
    {
     "data": {
      "text/html": [
       "<div>\n",
       "<style scoped>\n",
       "    .dataframe tbody tr th:only-of-type {\n",
       "        vertical-align: middle;\n",
       "    }\n",
       "\n",
       "    .dataframe tbody tr th {\n",
       "        vertical-align: top;\n",
       "    }\n",
       "\n",
       "    .dataframe thead th {\n",
       "        text-align: right;\n",
       "    }\n",
       "</style>\n",
       "<table border=\"1\" class=\"dataframe\">\n",
       "  <thead>\n",
       "    <tr style=\"text-align: right;\">\n",
       "      <th></th>\n",
       "      <th>class</th>\n",
       "      <th>maintanence price</th>\n",
       "      <th>count</th>\n",
       "    </tr>\n",
       "  </thead>\n",
       "  <tbody>\n",
       "    <tr>\n",
       "      <th>0</th>\n",
       "      <td>acc</td>\n",
       "      <td>high</td>\n",
       "      <td>105</td>\n",
       "    </tr>\n",
       "    <tr>\n",
       "      <th>1</th>\n",
       "      <td>acc</td>\n",
       "      <td>low</td>\n",
       "      <td>92</td>\n",
       "    </tr>\n",
       "    <tr>\n",
       "      <th>2</th>\n",
       "      <td>acc</td>\n",
       "      <td>med</td>\n",
       "      <td>115</td>\n",
       "    </tr>\n",
       "    <tr>\n",
       "      <th>3</th>\n",
       "      <td>acc</td>\n",
       "      <td>vhigh</td>\n",
       "      <td>72</td>\n",
       "    </tr>\n",
       "    <tr>\n",
       "      <th>4</th>\n",
       "      <td>good</td>\n",
       "      <td>low</td>\n",
       "      <td>46</td>\n",
       "    </tr>\n",
       "    <tr>\n",
       "      <th>5</th>\n",
       "      <td>good</td>\n",
       "      <td>med</td>\n",
       "      <td>23</td>\n",
       "    </tr>\n",
       "    <tr>\n",
       "      <th>6</th>\n",
       "      <td>unacc</td>\n",
       "      <td>high</td>\n",
       "      <td>314</td>\n",
       "    </tr>\n",
       "    <tr>\n",
       "      <th>7</th>\n",
       "      <td>unacc</td>\n",
       "      <td>low</td>\n",
       "      <td>268</td>\n",
       "    </tr>\n",
       "    <tr>\n",
       "      <th>8</th>\n",
       "      <td>unacc</td>\n",
       "      <td>med</td>\n",
       "      <td>268</td>\n",
       "    </tr>\n",
       "    <tr>\n",
       "      <th>9</th>\n",
       "      <td>unacc</td>\n",
       "      <td>vhigh</td>\n",
       "      <td>360</td>\n",
       "    </tr>\n",
       "    <tr>\n",
       "      <th>10</th>\n",
       "      <td>vgood</td>\n",
       "      <td>high</td>\n",
       "      <td>13</td>\n",
       "    </tr>\n",
       "    <tr>\n",
       "      <th>11</th>\n",
       "      <td>vgood</td>\n",
       "      <td>low</td>\n",
       "      <td>26</td>\n",
       "    </tr>\n",
       "    <tr>\n",
       "      <th>12</th>\n",
       "      <td>vgood</td>\n",
       "      <td>med</td>\n",
       "      <td>26</td>\n",
       "    </tr>\n",
       "  </tbody>\n",
       "</table>\n",
       "</div>"
      ],
      "text/plain": [
       "    class maintanence price  count\n",
       "0     acc              high    105\n",
       "1     acc               low     92\n",
       "2     acc               med    115\n",
       "3     acc             vhigh     72\n",
       "4    good               low     46\n",
       "5    good               med     23\n",
       "6   unacc              high    314\n",
       "7   unacc               low    268\n",
       "8   unacc               med    268\n",
       "9   unacc             vhigh    360\n",
       "10  vgood              high     13\n",
       "11  vgood               low     26\n",
       "12  vgood               med     26"
      ]
     },
     "execution_count": 123,
     "metadata": {},
     "output_type": "execute_result"
    }
   ],
   "source": [
    "df_grouped"
   ]
  },
  {
   "cell_type": "code",
   "execution_count": 137,
   "metadata": {
    "ExecuteTime": {
     "end_time": "2020-04-15T03:49:37.958242Z",
     "start_time": "2020-04-15T03:49:37.482781Z"
    }
   },
   "outputs": [
    {
     "data": {
      "image/png": "[encoded data removed]",
      "text/plain": [
       "<Figure size 432x288 with 1 Axes>"
      ]
     },
     "metadata": {
      "needs_background": "light"
     },
     "output_type": "display_data"
    }
   ],
   "source": [
    "# Bars\n",
    "# x-axis: group\n",
    "# y-axis: pct\n",
    "# color: class\n",
    "sns.barplot(x='maintanence price', y='count', hue='class', data=df_grouped)\n",
    "plt.xlim(-.5, 4.5)\n",
    "plt.legend(loc='upper right')\n",
    "plt.title(\"Car quality vs. maintenance price\");"
   ]
  },
  {
   "cell_type": "code",
   "execution_count": 143,
   "metadata": {
    "ExecuteTime": {
     "end_time": "2020-04-15T03:53:09.690166Z",
     "start_time": "2020-04-15T03:53:09.672494Z"
    }
   },
   "outputs": [],
   "source": [
    "# Categorical heatmap\n",
    "df_grouped = (df\n",
    "              .assign(class_enc=le.transform(df['class']))\n",
    "              .groupby(['maintanence price', 'estimated safety'])\n",
    "              .apply(lambda x: x['class_enc'].mean())\n",
    "              .reset_index()\n",
    "              .rename(columns={0: 'mean_class'}))"
   ]
  },
  {
   "cell_type": "code",
   "execution_count": 161,
   "metadata": {
    "ExecuteTime": {
     "end_time": "2020-04-15T04:00:14.150458Z",
     "start_time": "2020-04-15T04:00:14.119775Z"
    }
   },
   "outputs": [],
   "source": [
    "levels = ['low', 'med', 'high', 'vhigh']\n",
    "grid_data = np.zeros((len(levels), len(levels)))\n",
    "for i, l1 in enumerate(levels):\n",
    "    for j, l2 in enumerate(levels):\n",
    "        row = df_grouped[np.logical_and(df_grouped['maintanence price'] == l1, df_grouped['estimated safety'] == l2)]\n",
    "        if len(row) == 0:\n",
    "            continue\n",
    "        grid_data[i, j] = row['mean_class']\n"
   ]
  },
  {
   "cell_type": "code",
   "execution_count": 174,
   "metadata": {
    "ExecuteTime": {
     "end_time": "2020-04-15T04:04:02.217239Z",
     "start_time": "2020-04-15T04:04:01.942270Z"
    }
   },
   "outputs": [
    {
     "data": {
      "image/png": "[encoded data removed]",
      "text/plain": [
       "<Figure size 432x288 with 2 Axes>"
      ]
     },
     "metadata": {
      "needs_background": "light"
     },
     "output_type": "display_data"
    }
   ],
   "source": [
    "plt.imshow(grid_data, cmap='viridis')\n",
    "plt.grid(False)\n",
    "plt.xticks(ticks=np.arange(len(levels)), labels=levels)\n",
    "plt.yticks(ticks=np.arange(len(levels)), labels=levels)\n",
    "plt.colorbar()\n",
    "plt.ylabel(\"Maintenance price\")\n",
    "plt.xlabel(\"Estimated safety\");"
   ]
  },
  {
   "cell_type": "markdown",
   "metadata": {},
   "source": [
    "## New viz's "
   ]
  },
  {
   "cell_type": "markdown",
   "metadata": {},
   "source": [
    "### Most common predicted class for cars like this one"
   ]
  },
  {
   "cell_type": "code",
   "execution_count": 38,
   "metadata": {
    "ExecuteTime": {
     "end_time": "2020-04-22T04:46:00.727639Z",
     "start_time": "2020-04-22T04:46:00.722998Z"
    }
   },
   "outputs": [],
   "source": [
    "colnames = converted_df.columns[:-1].tolist()"
   ]
  },
  {
   "cell_type": "code",
   "execution_count": 45,
   "metadata": {
    "ExecuteTime": {
     "end_time": "2020-04-22T04:52:00.692608Z",
     "start_time": "2020-04-22T04:52:00.688799Z"
    }
   },
   "outputs": [],
   "source": [
    "idx = 6"
   ]
  },
  {
   "cell_type": "code",
   "execution_count": 46,
   "metadata": {
    "ExecuteTime": {
     "end_time": "2020-04-22T04:52:03.646038Z",
     "start_time": "2020-04-22T04:52:03.642961Z"
    }
   },
   "outputs": [],
   "source": [
    "feats = X_test[idx]"
   ]
  },
  {
   "cell_type": "code",
   "execution_count": 50,
   "metadata": {
    "ExecuteTime": {
     "end_time": "2020-04-22T04:52:44.910525Z",
     "start_time": "2020-04-22T04:52:44.906329Z"
    }
   },
   "outputs": [],
   "source": [
    "means = []\n",
    "for i, feat in enumerate(feats):\n",
    "    featmean = y_test_pred[X_test[:, i] == feat].mean()\n",
    "    means.append(featmean)"
   ]
  },
  {
   "cell_type": "code",
   "execution_count": 52,
   "metadata": {
    "ExecuteTime": {
     "end_time": "2020-04-22T04:52:48.149339Z",
     "start_time": "2020-04-22T04:52:48.144417Z"
    }
   },
   "outputs": [
    {
     "data": {
      "text/plain": [
       "[1.5662650602409638,\n",
       " 1.676056338028169,\n",
       " 1.4631578947368422,\n",
       " 2.0,\n",
       " 1.5726495726495726,\n",
       " 2.0]"
      ]
     },
     "execution_count": 52,
     "metadata": {},
     "output_type": "execute_result"
    }
   ],
   "source": [
    "means"
   ]
  },
  {
   "cell_type": "code",
   "execution_count": 53,
   "metadata": {
    "ExecuteTime": {
     "end_time": "2020-04-22T04:54:11.786939Z",
     "start_time": "2020-04-22T04:54:11.783052Z"
    }
   },
   "outputs": [],
   "source": [
    "feat_means = pd.DataFrame({\n",
    "    'feature': colnames,\n",
    "    'value': means\n",
    "})"
   ]
  },
  {
   "cell_type": "code",
   "execution_count": 54,
   "metadata": {
    "ExecuteTime": {
     "end_time": "2020-04-22T04:54:13.713245Z",
     "start_time": "2020-04-22T04:54:13.704272Z"
    }
   },
   "outputs": [
    {
     "data": {
      "text/html": [
       "<div>\n",
       "<style scoped>\n",
       "    .dataframe tbody tr th:only-of-type {\n",
       "        vertical-align: middle;\n",
       "    }\n",
       "\n",
       "    .dataframe tbody tr th {\n",
       "        vertical-align: top;\n",
       "    }\n",
       "\n",
       "    .dataframe thead th {\n",
       "        text-align: right;\n",
       "    }\n",
       "</style>\n",
       "<table border=\"1\" class=\"dataframe\">\n",
       "  <thead>\n",
       "    <tr style=\"text-align: right;\">\n",
       "      <th></th>\n",
       "      <th>feature</th>\n",
       "      <th>value</th>\n",
       "    </tr>\n",
       "  </thead>\n",
       "  <tbody>\n",
       "    <tr>\n",
       "      <th>0</th>\n",
       "      <td>buying price</td>\n",
       "      <td>1.566265</td>\n",
       "    </tr>\n",
       "    <tr>\n",
       "      <th>1</th>\n",
       "      <td>maintanence price</td>\n",
       "      <td>1.676056</td>\n",
       "    </tr>\n",
       "    <tr>\n",
       "      <th>2</th>\n",
       "      <td>doors</td>\n",
       "      <td>1.463158</td>\n",
       "    </tr>\n",
       "    <tr>\n",
       "      <th>3</th>\n",
       "      <td>capacity (persons)</td>\n",
       "      <td>2.000000</td>\n",
       "    </tr>\n",
       "    <tr>\n",
       "      <th>4</th>\n",
       "      <td>luggage boot size</td>\n",
       "      <td>1.572650</td>\n",
       "    </tr>\n",
       "    <tr>\n",
       "      <th>5</th>\n",
       "      <td>estimated safety</td>\n",
       "      <td>2.000000</td>\n",
       "    </tr>\n",
       "  </tbody>\n",
       "</table>\n",
       "</div>"
      ],
      "text/plain": [
       "              feature     value\n",
       "0        buying price  1.566265\n",
       "1   maintanence price  1.676056\n",
       "2               doors  1.463158\n",
       "3  capacity (persons)  2.000000\n",
       "4   luggage boot size  1.572650\n",
       "5    estimated safety  2.000000"
      ]
     },
     "execution_count": 54,
     "metadata": {},
     "output_type": "execute_result"
    }
   ],
   "source": [
    "feat_means"
   ]
  },
  {
   "cell_type": "code",
   "execution_count": 56,
   "metadata": {
    "ExecuteTime": {
     "end_time": "2020-04-22T04:54:59.824763Z",
     "start_time": "2020-04-22T04:54:59.817966Z"
    }
   },
   "outputs": [],
   "source": [
    "feat_means.to_csv(config.data / 'feature_means.csv', index=False)"
   ]
  },
  {
   "cell_type": "code",
   "execution_count": null,
   "metadata": {},
   "outputs": [],
   "source": []
  }
 ],
 "metadata": {
  "colab": {
   "collapsed_sections": [],
   "name": "Model_viz.ipynb",
   "provenance": []
  },
  "kernelspec": {
   "display_name": "Python (cs271)",
   "language": "python",
   "name": "cs271"
  },
  "language_info": {
   "codemirror_mode": {
    "name": "ipython",
    "version": 3
   },
   "file_extension": ".py",
   "mimetype": "text/x-python",
   "name": "python",
   "nbconvert_exporter": "python",
   "pygments_lexer": "ipython3",
   "version": "3.7.6"
  },
  "varInspector": {
   "cols": {
    "lenName": 16,
    "lenType": 16,
    "lenVar": 40
   },
   "kernels_config": {
    "python": {
     "delete_cmd_postfix": "",
     "delete_cmd_prefix": "del ",
     "library": "var_list.py",
     "varRefreshCmd": "print(var_dic_list())"
    },
    "r": {
     "delete_cmd_postfix": ") ",
     "delete_cmd_prefix": "rm(",
     "library": "var_list.r",
     "varRefreshCmd": "cat(var_dic_list()) "
    }
   },
   "types_to_exclude": [
    "module",
    "function",
    "builtin_function_or_method",
    "instance",
    "_Feature"
   ],
   "window_display": false
  }
 },
 "nbformat": 4,
 "nbformat_minor": 1
}
