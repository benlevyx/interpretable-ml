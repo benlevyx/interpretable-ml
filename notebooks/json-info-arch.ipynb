{
 "cells": [
  {
   "cell_type": "markdown",
   "metadata": {},
   "source": [
    "# JSON info-arch\n",
    "\n",
    "Testing the functionality to exchange information as JSON-like strings."
   ]
  },
  {
   "cell_type": "code",
   "execution_count": 44,
   "metadata": {
    "ExecuteTime": {
     "end_time": "2020-04-20T00:29:56.477077Z",
     "start_time": "2020-04-20T00:29:56.435105Z"
    }
   },
   "outputs": [
    {
     "name": "stdout",
     "output_type": "stream",
     "text": [
      "The autoreload extension is already loaded. To reload it, use:\n",
      "  %reload_ext autoreload\n"
     ]
    }
   ],
   "source": [
    "from interpml import config, utils\n",
    "from interpml import info_architecture as ia\n",
    "from interpml import plotting\n",
    "\n",
    "import numpy as np\n",
    "import matplotlib.pyplot as plt\n",
    "from tqdm.notebook import tqdm\n",
    "from pprint import pprint\n",
    "\n",
    "%matplotlib inline\n",
    "%load_ext autoreload\n",
    "%autoreload 2"
   ]
  },
  {
   "cell_type": "code",
   "execution_count": 4,
   "metadata": {
    "ExecuteTime": {
     "end_time": "2020-04-19T23:48:28.709992Z",
     "start_time": "2020-04-19T23:48:28.690998Z"
    }
   },
   "outputs": [],
   "source": [
    "## Preparing splits\n",
    "# Parameters\n",
    "components = np.arange(3) + 1\n",
    "height, width = 10, 12\n",
    "\n",
    "# Defined by lists of (row1, col1, height, width) tuples\n",
    "\n",
    "# 2-component dashboards\n",
    "split = 8\n",
    "spec1 = [\n",
    "    (0, 0, height, split),\n",
    "    (0, split, height, width - split)\n",
    "]\n",
    "\n",
    "split = 4\n",
    "spec2 = [\n",
    "    (0, 0, height, split),\n",
    "    (0, split, height, width - split)\n",
    "]\n",
    "\n",
    "# 3-component dashboards\n",
    "split = 6, 4\n",
    "spec3 = [\n",
    "    (0, 0, height, split[0]),\n",
    "    (0, split[0], split[1], width - split[0]),\n",
    "    (split[1], split[0], height - split[1], width - split[0])\n",
    "]\n",
    "\n",
    "split = 5, 6\n",
    "spec4 = [\n",
    "    (0, 0, height, split[0]),\n",
    "    (0, split[0], split[1], width - split[0]),\n",
    "    (split[1], split[0], height - split[1], width - split[0])\n",
    "]\n",
    "\n",
    "split = 5, 4\n",
    "spec5 = [\n",
    "    (0, 0, split[0], split[1]),\n",
    "    (split[0], 0, height - split[0], split[1]),\n",
    "    (0, split[1], height, width - split[1])\n",
    "]\n",
    "\n",
    "specs = [\n",
    "    spec1, spec2, spec3, spec4, spec5\n",
    "]"
   ]
  },
  {
   "cell_type": "code",
   "execution_count": 5,
   "metadata": {
    "ExecuteTime": {
     "end_time": "2020-04-19T23:48:39.190812Z",
     "start_time": "2020-04-19T23:48:39.176638Z"
    }
   },
   "outputs": [],
   "source": [
    "treemaps = []\n",
    "info_archs = []\n",
    "for i, arch in enumerate(specs):\n",
    "    for j in range(2):\n",
    "        arr = ia.spec2arr(arch, n_components=4, height=height, width=width)\n",
    "        treemaps.append(arr)\n",
    "        try:\n",
    "            info_archs.append(ia.InfoArchTree.from_array(i * 20 + j, arr))\n",
    "        except:\n",
    "            pass"
   ]
  },
  {
   "cell_type": "code",
   "execution_count": 6,
   "metadata": {
    "ExecuteTime": {
     "end_time": "2020-04-19T23:48:55.344096Z",
     "start_time": "2020-04-19T23:48:54.840504Z"
    }
   },
   "outputs": [
    {
     "data": {
      "image/png": "[encoded data removed]",
      "text/plain": [
       "<Figure size 288x900 with 10 Axes>"
      ]
     },
     "metadata": {
      "needs_background": "light"
     },
     "output_type": "display_data"
    }
   ],
   "source": [
    "fig, axs = plt.subplots(len(specs), 2, figsize=(2 * 2, len(specs) * 2.5))\n",
    "for i, (treemap, ax) in enumerate(zip(treemaps, axs.flat)):\n",
    "    plotting.plot_treemap(treemap, ax=ax, vmin=0, vmax=9, cmap='Set1')\n",
    "    ax.set_title(f'ID {i}')\n",
    "    ax.axis('off')"
   ]
  },
  {
   "cell_type": "code",
   "execution_count": 58,
   "metadata": {
    "ExecuteTime": {
     "end_time": "2020-04-20T00:30:51.913017Z",
     "start_time": "2020-04-20T00:30:51.865073Z"
    }
   },
   "outputs": [
    {
     "name": "stdout",
     "output_type": "stream",
     "text": [
      "{'components': {'height': 1,\n",
      "                'id': -1,\n",
      "                'left_child': {'height': 0.3333333333333333,\n",
      "                               'id': -1,\n",
      "                               'left_child': {'height': 0.5,\n",
      "                                              'id': 2.0,\n",
      "                                              'left_child': {},\n",
      "                                              'orientation': 'h',\n",
      "                                              'right_child': {},\n",
      "                                              'width': 1},\n",
      "                               'orientation': 'h',\n",
      "                               'right_child': {'height': 0.5,\n",
      "                                               'id': -1,\n",
      "                                               'left_child': {'height': 1.0,\n",
      "                                                              'id': 1.0,\n",
      "                                                              'left_child': {},\n",
      "                                                              'orientation': 'h',\n",
      "                                                              'right_child': {},\n",
      "                                                              'width': 1},\n",
      "                                               'orientation': 'h',\n",
      "                                               'right_child': {},\n",
      "                                               'width': 1},\n",
      "                               'width': 1},\n",
      "                'orientation': 'v',\n",
      "                'right_child': {'height': 1,\n",
      "                                'id': 3.0,\n",
      "                                'left_child': {},\n",
      "                                'orientation': 'v',\n",
      "                                'right_child': {},\n",
      "                                'width': 0.6666666666666667},\n",
      "                'width': 1.0},\n",
      " 'height': 12,\n",
      " 'id': 81,\n",
      " 'width': 12}\n"
     ]
    }
   ],
   "source": [
    "jsondict = info_archs[9].to_json()\n",
    "pprint(jsondict, indent=1)"
   ]
  },
  {
   "cell_type": "code",
   "execution_count": 34,
   "metadata": {
    "ExecuteTime": {
     "end_time": "2020-04-20T00:21:02.096051Z",
     "start_time": "2020-04-20T00:21:02.058988Z"
    }
   },
   "outputs": [],
   "source": [
    "tree = ia.InfoArchTree.from_json(jsondict)"
   ]
  },
  {
   "cell_type": "code",
   "execution_count": 43,
   "metadata": {
    "ExecuteTime": {
     "end_time": "2020-04-20T00:24:10.147193Z",
     "start_time": "2020-04-20T00:24:09.812630Z"
    }
   },
   "outputs": [
    {
     "name": "stdout",
     "output_type": "stream",
     "text": [
      "[], 1.00, v\n",
      "|----[], 0.33, h\n",
      "|    |----2.0, 0.50, h\n",
      "|    |----[], 0.50, h\n",
      "|    |    |----1.0, 1.00, h\n",
      "|----3.0, 0.67, v\n"
     ]
    }
   ],
   "source": [
    "print(tree)"
   ]
  },
  {
   "cell_type": "code",
   "execution_count": 41,
   "metadata": {
    "ExecuteTime": {
     "end_time": "2020-04-20T00:22:57.606388Z",
     "start_time": "2020-04-20T00:22:57.573963Z"
    }
   },
   "outputs": [
    {
     "data": {
      "text/plain": [
       "'v'"
      ]
     },
     "execution_count": 41,
     "metadata": {},
     "output_type": "execute_result"
    }
   ],
   "source": [
    "tree.root.right.orientation"
   ]
  },
  {
   "cell_type": "code",
   "execution_count": 39,
   "metadata": {
    "ExecuteTime": {
     "end_time": "2020-04-20T00:21:42.135092Z",
     "start_time": "2020-04-20T00:21:41.930440Z"
    }
   },
   "outputs": [
    {
     "data": {
      "text/plain": [
       "<matplotlib.image.AxesImage at 0x11e5d5c50>"
      ]
     },
     "execution_count": 39,
     "metadata": {},
     "output_type": "execute_result"
    },
    {
     "data": {
      "image/png": "[encoded data removed]",
      "text/plain": [
       "<Figure size 432x288 with 1 Axes>"
      ]
     },
     "metadata": {
      "needs_background": "light"
     },
     "output_type": "display_data"
    }
   ],
   "source": [
    "plotting.plot_treemap(treemaps[9], vmin=0, vmax=9, cmap='Set1')"
   ]
  },
  {
   "cell_type": "code",
   "execution_count": 33,
   "metadata": {
    "ExecuteTime": {
     "end_time": "2020-04-20T00:20:45.010461Z",
     "start_time": "2020-04-20T00:20:44.802587Z"
    }
   },
   "outputs": [
    {
     "data": {
      "text/plain": [
       "<matplotlib.image.AxesImage at 0x11dec8610>"
      ]
     },
     "execution_count": 33,
     "metadata": {},
     "output_type": "execute_result"
    },
    {
     "data": {
      "image/png": "[encoded data removed]",
      "text/plain": [
       "<Figure size 432x288 with 1 Axes>"
      ]
     },
     "metadata": {
      "needs_background": "light"
     },
     "output_type": "display_data"
    }
   ],
   "source": [
    "plotting.plot_treemap(tree.to_array(), vmin=0, vmax=9, cmap='Set1')"
   ]
  },
  {
   "cell_type": "code",
   "execution_count": null,
   "metadata": {},
   "outputs": [],
   "source": []
  },
  {
   "cell_type": "markdown",
   "metadata": {},
   "source": [
    "## Manually"
   ]
  },
  {
   "cell_type": "code",
   "execution_count": 61,
   "metadata": {
    "ExecuteTime": {
     "end_time": "2020-04-20T00:32:45.391708Z",
     "start_time": "2020-04-20T00:32:45.356531Z"
    }
   },
   "outputs": [],
   "source": [
    "jsondict = {'components': {'height': 1,\n",
    "                'id': -1,\n",
    "                'left_child': {'height': 0.3333333333333333,\n",
    "                               'id': -1,\n",
    "                               'left_child': {'height': 0.5,\n",
    "                                              'id': 2.0,\n",
    "                                              'left_child': {},\n",
    "                                              'orientation': 'h',\n",
    "                                              'right_child': {},\n",
    "                                              'width': 1},\n",
    "                               'orientation': 'v',\n",
    "                               'right_child': {'height': 0.5,\n",
    "                                               'id': -1,\n",
    "                                               'left_child': {'height': 1.0,\n",
    "                                                              'id': 1.0,\n",
    "                                                              'left_child': {},\n",
    "                                                              'orientation': 'h',\n",
    "                                                              'right_child': {},\n",
    "                                                              'width': 1},\n",
    "                                               'orientation': 'h',\n",
    "                                               'right_child': {},\n",
    "                                               'width': 1},\n",
    "                               'width': 1},\n",
    "                'orientation': 'v',\n",
    "                'right_child': {'height': 1,\n",
    "                                'id': 3.0,\n",
    "                                'left_child': {},\n",
    "                                'orientation': 'v',\n",
    "                                'right_child': {},\n",
    "                                'width': 0.6666666666666667},\n",
    "                'width': 1.0},\n",
    " 'height': 12,\n",
    " 'id': 81,\n",
    " 'width': 12}"
   ]
  },
  {
   "cell_type": "code",
   "execution_count": 62,
   "metadata": {
    "ExecuteTime": {
     "end_time": "2020-04-20T00:32:45.933190Z",
     "start_time": "2020-04-20T00:32:45.720704Z"
    }
   },
   "outputs": [
    {
     "data": {
      "text/plain": [
       "<matplotlib.image.AxesImage at 0x11e7730d0>"
      ]
     },
     "execution_count": 62,
     "metadata": {},
     "output_type": "execute_result"
    },
    {
     "data": {
      "image/png": "[encoded data removed]",
      "text/plain": [
       "<Figure size 432x288 with 1 Axes>"
      ]
     },
     "metadata": {
      "needs_background": "light"
     },
     "output_type": "display_data"
    }
   ],
   "source": [
    "tree = ia.InfoArchTree.from_json(jsondict)\n",
    "plotting.plot_treemap(tree.to_array(), vmin=0, vmax=9, cmap='Set1')"
   ]
  },
  {
   "cell_type": "code",
   "execution_count": 63,
   "metadata": {
    "ExecuteTime": {
     "end_time": "2020-04-20T00:33:57.394589Z",
     "start_time": "2020-04-20T00:33:57.364365Z"
    }
   },
   "outputs": [
    {
     "data": {
      "text/plain": [
       "array([[2., 2., 2., 2., 2., 2., 2., 2., 2., 2., 2., 2.],\n",
       "       [2., 2., 2., 2., 2., 2., 2., 2., 2., 2., 2., 2.],\n",
       "       [2., 2., 2., 2., 2., 2., 2., 2., 2., 2., 2., 2.],\n",
       "       [2., 2., 2., 2., 2., 2., 2., 2., 2., 2., 2., 2.],\n",
       "       [2., 2., 2., 2., 2., 2., 2., 2., 2., 2., 2., 2.],\n",
       "       [2., 2., 2., 2., 2., 2., 2., 2., 2., 2., 2., 2.],\n",
       "       [1., 1., 1., 1., 1., 1., 1., 1., 1., 1., 1., 1.],\n",
       "       [1., 1., 1., 1., 1., 1., 1., 1., 1., 1., 1., 1.],\n",
       "       [1., 1., 1., 1., 1., 1., 1., 1., 1., 1., 1., 1.],\n",
       "       [1., 1., 1., 1., 1., 1., 1., 1., 1., 1., 1., 1.],\n",
       "       [1., 1., 1., 1., 1., 1., 1., 1., 1., 1., 1., 1.],\n",
       "       [1., 1., 1., 1., 1., 1., 1., 1., 1., 1., 1., 1.]])"
      ]
     },
     "execution_count": 63,
     "metadata": {},
     "output_type": "execute_result"
    }
   ],
   "source": [
    "tree.to_array()"
   ]
  },
  {
   "cell_type": "code",
   "execution_count": 64,
   "metadata": {
    "ExecuteTime": {
     "end_time": "2020-04-20T00:34:00.685205Z",
     "start_time": "2020-04-20T00:34:00.653291Z"
    }
   },
   "outputs": [
    {
     "name": "stdout",
     "output_type": "stream",
     "text": [
      "[], 1.00, v\n",
      "|----[], 1.00, v\n",
      "|    |----2.0, 0.50, h\n",
      "|    |----[], 0.50, h\n",
      "|    |    |----1.0, 1.00, h\n",
      "|----3.0, 0.67, v\n"
     ]
    }
   ],
   "source": [
    "print(tree)"
   ]
  },
  {
   "cell_type": "code",
   "execution_count": null,
   "metadata": {},
   "outputs": [],
   "source": []
  }
 ],
 "metadata": {
  "kernelspec": {
   "display_name": "Python (cs271)",
   "language": "python",
   "name": "cs271"
  },
  "language_info": {
   "codemirror_mode": {
    "name": "ipython",
    "version": 3
   },
   "file_extension": ".py",
   "mimetype": "text/x-python",
   "name": "python",
   "nbconvert_exporter": "python",
   "pygments_lexer": "ipython3",
   "version": "3.7.6"
  },
  "varInspector": {
   "cols": {
    "lenName": 16,
    "lenType": 16,
    "lenVar": 40
   },
   "kernels_config": {
    "python": {
     "delete_cmd_postfix": "",
     "delete_cmd_prefix": "del ",
     "library": "var_list.py",
     "varRefreshCmd": "print(var_dic_list())"
    },
    "r": {
     "delete_cmd_postfix": ") ",
     "delete_cmd_prefix": "rm(",
     "library": "var_list.r",
     "varRefreshCmd": "cat(var_dic_list()) "
    }
   },
   "types_to_exclude": [
    "module",
    "function",
    "builtin_function_or_method",
    "instance",
    "_Feature"
   ],
   "window_display": false
  }
 },
 "nbformat": 4,
 "nbformat_minor": 4
}
