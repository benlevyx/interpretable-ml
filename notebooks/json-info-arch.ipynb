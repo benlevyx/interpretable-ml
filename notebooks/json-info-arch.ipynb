{
 "cells": [
  {
   "cell_type": "markdown",
   "metadata": {},
   "source": [
    "# JSON info-arch\n",
    "\n",
    "Testing the functionality to exchange information as JSON-like strings."
   ]
  },
  {
   "cell_type": "code",
   "execution_count": 44,
   "metadata": {
    "ExecuteTime": {
     "end_time": "2020-04-20T00:29:56.477077Z",
     "start_time": "2020-04-20T00:29:56.435105Z"
    }
   },
   "outputs": [
    {
     "name": "stdout",
     "output_type": "stream",
     "text": [
      "The autoreload extension is already loaded. To reload it, use:\n",
      "  %reload_ext autoreload\n"
     ]
    }
   ],
   "source": [
    "from interpml import config, utils\n",
    "from interpml import info_architecture as ia\n",
    "from interpml import plotting\n",
    "\n",
    "import numpy as np\n",
    "import matplotlib.pyplot as plt\n",
    "from tqdm.notebook import tqdm\n",
    "from pprint import pprint\n",
    "\n",
    "%matplotlib inline\n",
    "%load_ext autoreload\n",
    "%autoreload 2"
   ]
  },
  {
   "cell_type": "code",
   "execution_count": 99,
   "metadata": {
    "ExecuteTime": {
     "end_time": "2020-04-20T03:26:27.450153Z",
     "start_time": "2020-04-20T03:26:27.091965Z"
    }
   },
   "outputs": [],
   "source": [
    "# Defined by lists of (row1, col1, height, width) tuples\n",
    "\n",
    "# 2-component dashboards\n",
    "split = 8\n",
    "spec1 = [\n",
    "    (0, 0, height, split),\n",
    "    (0, split, height, width - split)\n",
    "]\n",
    "\n",
    "split = 4\n",
    "spec2 = [\n",
    "    (0, 0, height, split),\n",
    "    (0, split, height, width - split)\n",
    "]\n",
    "\n",
    "split = 4\n",
    "spec3 = [\n",
    "    (0, 0, split, width),\n",
    "    (split, 0, height - split, width)\n",
    "]\n",
    "\n",
    "split = 6\n",
    "spec4 = [\n",
    "    (0, 0, split, width),\n",
    "    (split, 0, height - split, width)\n",
    "]\n",
    "\n",
    "# 3-component dashboards\n",
    "split = 6, 4\n",
    "spec5 = [\n",
    "    (0, 0, height, split[0]),\n",
    "    (0, split[0], split[1], width - split[0]),\n",
    "    (split[1], split[0], height - split[1], width - split[0])\n",
    "]\n",
    "\n",
    "split = 5, 6\n",
    "spec6 = [\n",
    "    (0, 0, height, split[0]),\n",
    "    (0, split[0], split[1], width - split[0]),\n",
    "    (split[1], split[0], height - split[1], width - split[0])\n",
    "]\n",
    "\n",
    "split = 5, 4\n",
    "spec7 = [\n",
    "    (0, 0, split[0], split[1]),\n",
    "    (split[0], 0, height - split[0], split[1]),\n",
    "    (0, split[1], height, width - split[1])\n",
    "]\n",
    "\n",
    "split = 4, 6\n",
    "spec8 = [\n",
    "    (0, 0, split[0], split[1]),\n",
    "    (split[0], 0, height - split[0], split[1]),\n",
    "    (0, split[1], height, width - split[1])\n",
    "]\n",
    "\n",
    "split = 4, 6\n",
    "spec9 = [\n",
    "    (0, 0, split[0], split[1]),\n",
    "    (0, split[1], split[0], width - split[1]),\n",
    "    (split[0], 0, height - split[0], width)\n",
    "]\n",
    "\n",
    "split = 6, 4\n",
    "spec10 = [\n",
    "    (0, 0, split[0], split[1]),\n",
    "    (0, split[1], split[0], width - split[1]),\n",
    "    (split[0], 0, height - split[0], width)\n",
    "]\n",
    "\n",
    "split = 4, 6\n",
    "spec11 = [\n",
    "    (0, 0, split[0], width),\n",
    "    (split[0], 0, height - split[0], split[1]),\n",
    "    (split[0], split[1], height - split[0], width - split[1])\n",
    "]\n",
    "\n",
    "split = 6, 4\n",
    "spec12 = [\n",
    "    (0, 0, split[0], width),\n",
    "    (split[0], 0, height - split[0], split[1]),\n",
    "    (split[0], split[1], height - split[0], width - split[1])\n",
    "]\n",
    "\n",
    "specs = [\n",
    "    spec1, spec2, spec3, spec4, spec5, spec6,\n",
    "    spec7, spec8, spec9, spec10, spec11, spec12\n",
    "]"
   ]
  },
  {
   "cell_type": "code",
   "execution_count": 110,
   "metadata": {
    "ExecuteTime": {
     "end_time": "2020-04-20T03:28:58.937814Z",
     "start_time": "2020-04-20T03:28:58.882513Z"
    }
   },
   "outputs": [],
   "source": [
    "treemaps = []\n",
    "info_archs = []\n",
    "for i, arch in enumerate(specs):\n",
    "    for j in range(3):\n",
    "        arr = ia.spec2arr(arch, n_components=4, height=height, width=width)\n",
    "        treemaps.append(arr)\n",
    "        try:\n",
    "            info_archs.append(ia.InfoArchTree.from_array(i * 20 + j, arr, height=height, width=width))\n",
    "        except:\n",
    "            pass"
   ]
  },
  {
   "cell_type": "code",
   "execution_count": 111,
   "metadata": {
    "ExecuteTime": {
     "end_time": "2020-04-20T03:29:01.851882Z",
     "start_time": "2020-04-20T03:28:59.344177Z"
    }
   },
   "outputs": [
    {
     "data": {
      "image/png": "[encoded data removed]",
      "text/plain": [
       "<Figure size 432x2160 with 36 Axes>"
      ]
     },
     "metadata": {
      "needs_background": "light"
     },
     "output_type": "display_data"
    }
   ],
   "source": [
    "fig, axs = plt.subplots(len(specs), 3, figsize=(3 * 2, len(specs) * 2.5))\n",
    "for i, (treemap, ax) in enumerate(zip(treemaps, axs.flat)):\n",
    "    plotting.plot_treemap(treemap, ax=ax, vmin=0, vmax=9, cmap='Set1')\n",
    "    ax.set_title(f'ID {i}')\n",
    "    ax.axis('off')"
   ]
  },
  {
   "cell_type": "code",
   "execution_count": 118,
   "metadata": {
    "ExecuteTime": {
     "end_time": "2020-04-20T03:29:36.463841Z",
     "start_time": "2020-04-20T03:29:36.420743Z"
    }
   },
   "outputs": [],
   "source": [
    "jsondict = info_archs[19].to_json()\n",
    "tree = ia.InfoArchTree.from_json(jsondict)"
   ]
  },
  {
   "cell_type": "code",
   "execution_count": 119,
   "metadata": {
    "ExecuteTime": {
     "end_time": "2020-04-20T03:29:37.015602Z",
     "start_time": "2020-04-20T03:29:36.973118Z"
    }
   },
   "outputs": [
    {
     "name": "stdout",
     "output_type": "stream",
     "text": [
      "[], 1.00, v\n",
      "|----[], 0.33, v\n",
      "|    |----2.0, 0.50, h\n",
      "|    |----[], 0.50, h\n",
      "|    |    |----1.0, 1.00, h\n",
      "|----3.0, 0.67, v\n"
     ]
    }
   ],
   "source": [
    "print(tree)"
   ]
  },
  {
   "cell_type": "code",
   "execution_count": 120,
   "metadata": {
    "ExecuteTime": {
     "end_time": "2020-04-20T03:29:37.430829Z",
     "start_time": "2020-04-20T03:29:37.370461Z"
    }
   },
   "outputs": [
    {
     "data": {
      "text/plain": [
       "'v'"
      ]
     },
     "execution_count": 120,
     "metadata": {},
     "output_type": "execute_result"
    }
   ],
   "source": [
    "tree.root.right.orientation"
   ]
  },
  {
   "cell_type": "code",
   "execution_count": null,
   "metadata": {
    "ExecuteTime": {
     "start_time": "2020-04-20T03:29:37.710Z"
    }
   },
   "outputs": [
    {
     "data": {
      "text/plain": [
       "<matplotlib.image.AxesImage at 0x120961fd0>"
      ]
     },
     "execution_count": 121,
     "metadata": {},
     "output_type": "execute_result"
    },
    {
     "data": {
      "image/png": "[encoded data removed]",
      "text/plain": [
       "<Figure size 432x288 with 1 Axes>"
      ]
     },
     "metadata": {
      "needs_background": "light"
     },
     "output_type": "display_data"
    }
   ],
   "source": [
    "plotting.plot_treemap(treemaps[19], vmin=0, vmax=9, cmap='Set1')"
   ]
  },
  {
   "cell_type": "code",
   "execution_count": 116,
   "metadata": {
    "ExecuteTime": {
     "end_time": "2020-04-20T03:29:04.387216Z",
     "start_time": "2020-04-20T03:29:04.321987Z"
    }
   },
   "outputs": [
    {
     "data": {
      "text/plain": [
       "12"
      ]
     },
     "execution_count": 116,
     "metadata": {},
     "output_type": "execute_result"
    }
   ],
   "source": [
    "tree.height"
   ]
  },
  {
   "cell_type": "code",
   "execution_count": 117,
   "metadata": {
    "ExecuteTime": {
     "end_time": "2020-04-20T03:29:05.126317Z",
     "start_time": "2020-04-20T03:29:04.831219Z"
    }
   },
   "outputs": [
    {
     "data": {
      "text/plain": [
       "<matplotlib.image.AxesImage at 0x11b29c790>"
      ]
     },
     "execution_count": 117,
     "metadata": {},
     "output_type": "execute_result"
    },
    {
     "data": {
      "image/png": "[encoded data removed]",
      "text/plain": [
       "<Figure size 432x288 with 1 Axes>"
      ]
     },
     "metadata": {
      "needs_background": "light"
     },
     "output_type": "display_data"
    }
   ],
   "source": [
    "plotting.plot_treemap(tree.to_array(), vmin=0, vmax=9, cmap='Set1')"
   ]
  },
  {
   "cell_type": "markdown",
   "metadata": {},
   "source": [
    "## Fixing `arr2tree` method"
   ]
  },
  {
   "cell_type": "code",
   "execution_count": 89,
   "metadata": {
    "ExecuteTime": {
     "end_time": "2020-04-20T03:08:49.769133Z",
     "start_time": "2020-04-20T03:08:49.734034Z"
    }
   },
   "outputs": [
    {
     "data": {
      "text/plain": [
       "array([[3., 3., 3., 3., 3., 3., 3., 3., 3., 3., 3., 3.],\n",
       "       [3., 3., 3., 3., 3., 3., 3., 3., 3., 3., 3., 3.],\n",
       "       [1., 1., 1., 1., 1., 1., 1., 1., 1., 1., 1., 1.],\n",
       "       [1., 1., 1., 1., 1., 1., 1., 1., 1., 1., 1., 1.],\n",
       "       [4., 4., 4., 4., 4., 4., 4., 4., 4., 4., 4., 4.],\n",
       "       [4., 4., 4., 4., 4., 4., 4., 4., 4., 4., 4., 4.],\n",
       "       [4., 4., 4., 4., 4., 4., 4., 4., 4., 4., 4., 4.],\n",
       "       [4., 4., 4., 4., 4., 4., 4., 4., 4., 4., 4., 4.],\n",
       "       [4., 4., 4., 4., 4., 4., 4., 4., 4., 4., 4., 4.],\n",
       "       [4., 4., 4., 4., 4., 4., 4., 4., 4., 4., 4., 4.],\n",
       "       [4., 4., 4., 4., 4., 4., 4., 4., 4., 4., 4., 4.],\n",
       "       [4., 4., 4., 4., 4., 4., 4., 4., 4., 4., 4., 4.]])"
      ]
     },
     "execution_count": 89,
     "metadata": {},
     "output_type": "execute_result"
    }
   ],
   "source": [
    "tree.to_array()"
   ]
  },
  {
   "cell_type": "code",
   "execution_count": 90,
   "metadata": {
    "ExecuteTime": {
     "end_time": "2020-04-20T03:08:54.901628Z",
     "start_time": "2020-04-20T03:08:54.868666Z"
    }
   },
   "outputs": [
    {
     "data": {
      "text/plain": [
       "array([[3., 3., 3., 3., 4., 4., 4., 4., 4., 4., 4., 4.],\n",
       "       [3., 3., 3., 3., 4., 4., 4., 4., 4., 4., 4., 4.],\n",
       "       [3., 3., 3., 3., 4., 4., 4., 4., 4., 4., 4., 4.],\n",
       "       [3., 3., 3., 3., 4., 4., 4., 4., 4., 4., 4., 4.],\n",
       "       [3., 3., 3., 3., 4., 4., 4., 4., 4., 4., 4., 4.],\n",
       "       [1., 1., 1., 1., 4., 4., 4., 4., 4., 4., 4., 4.],\n",
       "       [1., 1., 1., 1., 4., 4., 4., 4., 4., 4., 4., 4.],\n",
       "       [1., 1., 1., 1., 4., 4., 4., 4., 4., 4., 4., 4.],\n",
       "       [1., 1., 1., 1., 4., 4., 4., 4., 4., 4., 4., 4.],\n",
       "       [1., 1., 1., 1., 4., 4., 4., 4., 4., 4., 4., 4.]])"
      ]
     },
     "execution_count": 90,
     "metadata": {},
     "output_type": "execute_result"
    }
   ],
   "source": [
    "treemaps[19]"
   ]
  },
  {
   "cell_type": "code",
   "execution_count": 98,
   "metadata": {
    "ExecuteTime": {
     "end_time": "2020-04-20T03:22:31.957910Z",
     "start_time": "2020-04-20T03:22:31.921561Z"
    }
   },
   "outputs": [
    {
     "data": {
      "text/plain": [
       "3"
      ]
     },
     "execution_count": 98,
     "metadata": {},
     "output_type": "execute_result"
    }
   ],
   "source": [
    "ia._find_sep(treemaps[19], 1)"
   ]
  },
  {
   "cell_type": "code",
   "execution_count": 95,
   "metadata": {
    "ExecuteTime": {
     "end_time": "2020-04-20T03:12:44.105192Z",
     "start_time": "2020-04-20T03:12:44.070993Z"
    }
   },
   "outputs": [
    {
     "name": "stdout",
     "output_type": "stream",
     "text": [
      "[], 1.00, v\n",
      "|----[], 0.33, h\n",
      "|    |----3.0, 0.50, h\n",
      "|    |----[], 0.50, h\n",
      "|    |    |----1.0, 1.00, h\n",
      "|----4.0, 0.67, v\n"
     ]
    }
   ],
   "source": [
    "print(tree)"
   ]
  },
  {
   "cell_type": "code",
   "execution_count": 94,
   "metadata": {
    "ExecuteTime": {
     "end_time": "2020-04-20T03:11:18.852932Z",
     "start_time": "2020-04-20T03:11:18.520655Z"
    }
   },
   "outputs": [
    {
     "data": {
      "text/plain": [
       "<networkx.classes.digraph.DiGraph at 0x11d6d8d50>"
      ]
     },
     "execution_count": 94,
     "metadata": {},
     "output_type": "execute_result"
    },
    {
     "data": {
      "image/png": "[encoded data removed]",
      "text/plain": [
       "<Figure size 432x288 with 1 Axes>"
      ]
     },
     "metadata": {},
     "output_type": "display_data"
    }
   ],
   "source": [
    "plotting.plot_tree_graph(tree)"
   ]
  },
  {
   "cell_type": "markdown",
   "metadata": {},
   "source": [
    "## Manually"
   ]
  },
  {
   "cell_type": "code",
   "execution_count": 69,
   "metadata": {
    "ExecuteTime": {
     "end_time": "2020-04-20T00:36:08.319190Z",
     "start_time": "2020-04-20T00:36:08.285196Z"
    }
   },
   "outputs": [],
   "source": [
    "jsondict = {'components': {'height': 1,\n",
    "                'id': -1,\n",
    "                'left_child': {'height': 1,\n",
    "                               'id': -1,\n",
    "                               'left_child': {'height': 0.5,\n",
    "                                              'id': 2.0,\n",
    "                                              'left_child': {},\n",
    "                                              'orientation': 'h',\n",
    "                                              'right_child': {},\n",
    "                                              'width': 1},\n",
    "                               'orientation': 'v',\n",
    "                               'right_child': {'height': 0.5,\n",
    "                                               'id': -1,\n",
    "                                               'left_child': {'height': 1.0,\n",
    "                                                              'id': 1.0,\n",
    "                                                              'left_child': {},\n",
    "                                                              'orientation': 'h',\n",
    "                                                              'right_child': {},\n",
    "                                                              'width': 1},\n",
    "                                               'orientation': 'h',\n",
    "                                               'right_child': {},\n",
    "                                               'width': 1},\n",
    "                               'width': 0.3333333333333333},\n",
    "                'orientation': 'v',\n",
    "                'right_child': {'height': 1,\n",
    "                                'id': 3.0,\n",
    "                                'left_child': {},\n",
    "                                'orientation': 'v',\n",
    "                                'right_child': {},\n",
    "                                'width': 0.6666666666666667},\n",
    "                'width': 1.0},\n",
    " 'height': 10,\n",
    " 'id': 81,\n",
    " 'width': 12}"
   ]
  },
  {
   "cell_type": "code",
   "execution_count": 70,
   "metadata": {
    "ExecuteTime": {
     "end_time": "2020-04-20T00:36:09.056790Z",
     "start_time": "2020-04-20T00:36:08.752410Z"
    }
   },
   "outputs": [
    {
     "data": {
      "text/plain": [
       "<matplotlib.image.AxesImage at 0x11dbcbdd0>"
      ]
     },
     "execution_count": 70,
     "metadata": {},
     "output_type": "execute_result"
    },
    {
     "data": {
      "image/png": "[encoded data removed]",
      "text/plain": [
       "<Figure size 432x288 with 1 Axes>"
      ]
     },
     "metadata": {
      "needs_background": "light"
     },
     "output_type": "display_data"
    }
   ],
   "source": [
    "tree = ia.InfoArchTree.from_json(jsondict)\n",
    "plotting.plot_treemap(tree.to_array(), vmin=0, vmax=9, cmap='Set1')"
   ]
  },
  {
   "cell_type": "code",
   "execution_count": 71,
   "metadata": {
    "ExecuteTime": {
     "end_time": "2020-04-20T00:36:09.707810Z",
     "start_time": "2020-04-20T00:36:09.658926Z"
    }
   },
   "outputs": [
    {
     "data": {
      "text/plain": [
       "array([[2., 2., 2., 2., 3., 3., 3., 3., 3., 3., 3., 3.],\n",
       "       [2., 2., 2., 2., 3., 3., 3., 3., 3., 3., 3., 3.],\n",
       "       [2., 2., 2., 2., 3., 3., 3., 3., 3., 3., 3., 3.],\n",
       "       [2., 2., 2., 2., 3., 3., 3., 3., 3., 3., 3., 3.],\n",
       "       [2., 2., 2., 2., 3., 3., 3., 3., 3., 3., 3., 3.],\n",
       "       [1., 1., 1., 1., 3., 3., 3., 3., 3., 3., 3., 3.],\n",
       "       [1., 1., 1., 1., 3., 3., 3., 3., 3., 3., 3., 3.],\n",
       "       [1., 1., 1., 1., 3., 3., 3., 3., 3., 3., 3., 3.],\n",
       "       [1., 1., 1., 1., 3., 3., 3., 3., 3., 3., 3., 3.],\n",
       "       [1., 1., 1., 1., 3., 3., 3., 3., 3., 3., 3., 3.]])"
      ]
     },
     "execution_count": 71,
     "metadata": {},
     "output_type": "execute_result"
    }
   ],
   "source": [
    "treemaps[9]"
   ]
  },
  {
   "cell_type": "code",
   "execution_count": 72,
   "metadata": {
    "ExecuteTime": {
     "end_time": "2020-04-20T00:36:10.055899Z",
     "start_time": "2020-04-20T00:36:10.017982Z"
    }
   },
   "outputs": [
    {
     "data": {
      "text/plain": [
       "array([[2., 2., 2., 2., 3., 3., 3., 3., 3., 3., 3., 3.],\n",
       "       [2., 2., 2., 2., 3., 3., 3., 3., 3., 3., 3., 3.],\n",
       "       [2., 2., 2., 2., 3., 3., 3., 3., 3., 3., 3., 3.],\n",
       "       [2., 2., 2., 2., 3., 3., 3., 3., 3., 3., 3., 3.],\n",
       "       [2., 2., 2., 2., 3., 3., 3., 3., 3., 3., 3., 3.],\n",
       "       [1., 1., 1., 1., 3., 3., 3., 3., 3., 3., 3., 3.],\n",
       "       [1., 1., 1., 1., 3., 3., 3., 3., 3., 3., 3., 3.],\n",
       "       [1., 1., 1., 1., 3., 3., 3., 3., 3., 3., 3., 3.],\n",
       "       [1., 1., 1., 1., 3., 3., 3., 3., 3., 3., 3., 3.],\n",
       "       [1., 1., 1., 1., 3., 3., 3., 3., 3., 3., 3., 3.]])"
      ]
     },
     "execution_count": 72,
     "metadata": {},
     "output_type": "execute_result"
    }
   ],
   "source": [
    "tree.to_array()"
   ]
  },
  {
   "cell_type": "code",
   "execution_count": 73,
   "metadata": {
    "ExecuteTime": {
     "end_time": "2020-04-20T00:36:10.711249Z",
     "start_time": "2020-04-20T00:36:10.666138Z"
    }
   },
   "outputs": [
    {
     "name": "stdout",
     "output_type": "stream",
     "text": [
      "[], 1.00, v\n",
      "|----[], 0.33, v\n",
      "|    |----2.0, 0.50, h\n",
      "|    |----[], 0.50, h\n",
      "|    |    |----1.0, 1.00, h\n",
      "|----3.0, 0.67, v\n"
     ]
    }
   ],
   "source": [
    "print(tree)"
   ]
  },
  {
   "cell_type": "markdown",
   "metadata": {},
   "source": [
    "## Saving info_archs"
   ]
  }
 ],
 "metadata": {
  "kernelspec": {
   "display_name": "Python (cs271)",
   "language": "python",
   "name": "cs271"
  },
  "language_info": {
   "codemirror_mode": {
    "name": "ipython",
    "version": 3
   },
   "file_extension": ".py",
   "mimetype": "text/x-python",
   "name": "python",
   "nbconvert_exporter": "python",
   "pygments_lexer": "ipython3",
   "version": "3.7.6"
  },
  "varInspector": {
   "cols": {
    "lenName": 16,
    "lenType": 16,
    "lenVar": 40
   },
   "kernels_config": {
    "python": {
     "delete_cmd_postfix": "",
     "delete_cmd_prefix": "del ",
     "library": "var_list.py",
     "varRefreshCmd": "print(var_dic_list())"
    },
    "r": {
     "delete_cmd_postfix": ") ",
     "delete_cmd_prefix": "rm(",
     "library": "var_list.r",
     "varRefreshCmd": "cat(var_dic_list()) "
    }
   },
   "types_to_exclude": [
    "module",
    "function",
    "builtin_function_or_method",
    "instance",
    "_Feature"
   ],
   "window_display": false
  }
 },
 "nbformat": 4,
 "nbformat_minor": 4
}
